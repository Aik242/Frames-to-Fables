{
 "cells": [
  {
   "cell_type": "markdown",
   "id": "2c917bee",
   "metadata": {},
   "source": [
    "### Loading Dependencies"
   ]
  },
  {
   "cell_type": "code",
   "execution_count": 3,
   "id": "19115d5a",
   "metadata": {},
   "outputs": [],
   "source": [
    "import numpy as np\n",
    "import pandas as pd\n",
    "import matplotlib.pyplot as plt"
   ]
  },
  {
   "cell_type": "code",
   "execution_count": 14,
   "id": "dd52f11a",
   "metadata": {},
   "outputs": [],
   "source": [
    "from sklearn.model_selection import train_test_split"
   ]
  },
  {
   "cell_type": "markdown",
   "id": "8bbc3d4b",
   "metadata": {},
   "source": [
    "### Loading the Data"
   ]
  },
  {
   "cell_type": "code",
   "execution_count": 5,
   "id": "91bff735",
   "metadata": {},
   "outputs": [
    {
     "data": {
      "application/vnd.microsoft.datawrangler.viewer.v0+json": {
       "columns": [
        {
         "name": "index",
         "rawType": "int64",
         "type": "integer"
        },
        {
         "name": "card",
         "rawType": "object",
         "type": "string"
        },
        {
         "name": "reports",
         "rawType": "int64",
         "type": "integer"
        },
        {
         "name": "age",
         "rawType": "float64",
         "type": "float"
        },
        {
         "name": "income",
         "rawType": "float64",
         "type": "float"
        },
        {
         "name": "share",
         "rawType": "float64",
         "type": "float"
        },
        {
         "name": "expenditure",
         "rawType": "float64",
         "type": "float"
        },
        {
         "name": "owner",
         "rawType": "object",
         "type": "string"
        },
        {
         "name": "selfemp",
         "rawType": "object",
         "type": "string"
        },
        {
         "name": "dependents",
         "rawType": "int64",
         "type": "integer"
        },
        {
         "name": "months",
         "rawType": "int64",
         "type": "integer"
        },
        {
         "name": "majorcards",
         "rawType": "int64",
         "type": "integer"
        },
        {
         "name": "active",
         "rawType": "int64",
         "type": "integer"
        }
       ],
       "ref": "a6c26196-8757-48bd-acd4-1ac3c32ef26e",
       "rows": [
        [
         "0",
         "yes",
         "0",
         "37.66667",
         "4.52",
         "0.03326991",
         "124.9833",
         "yes",
         "no",
         "3",
         "54",
         "1",
         "12"
        ],
        [
         "1",
         "yes",
         "0",
         "33.25",
         "2.42",
         "0.005216942",
         "9.854167",
         "no",
         "no",
         "3",
         "34",
         "1",
         "13"
        ],
        [
         "2",
         "yes",
         "0",
         "33.66667",
         "4.5",
         "0.0041555559999999",
         "15.0",
         "yes",
         "no",
         "4",
         "58",
         "1",
         "5"
        ],
        [
         "3",
         "yes",
         "0",
         "30.5",
         "2.54",
         "0.06521378",
         "137.8692",
         "no",
         "no",
         "0",
         "25",
         "1",
         "7"
        ],
        [
         "4",
         "yes",
         "0",
         "32.16667",
         "9.7867",
         "0.06705059",
         "546.5033",
         "yes",
         "no",
         "2",
         "64",
         "1",
         "5"
        ]
       ],
       "shape": {
        "columns": 12,
        "rows": 5
       }
      },
      "text/html": [
       "<div>\n",
       "<style scoped>\n",
       "    .dataframe tbody tr th:only-of-type {\n",
       "        vertical-align: middle;\n",
       "    }\n",
       "\n",
       "    .dataframe tbody tr th {\n",
       "        vertical-align: top;\n",
       "    }\n",
       "\n",
       "    .dataframe thead th {\n",
       "        text-align: right;\n",
       "    }\n",
       "</style>\n",
       "<table border=\"1\" class=\"dataframe\">\n",
       "  <thead>\n",
       "    <tr style=\"text-align: right;\">\n",
       "      <th></th>\n",
       "      <th>card</th>\n",
       "      <th>reports</th>\n",
       "      <th>age</th>\n",
       "      <th>income</th>\n",
       "      <th>share</th>\n",
       "      <th>expenditure</th>\n",
       "      <th>owner</th>\n",
       "      <th>selfemp</th>\n",
       "      <th>dependents</th>\n",
       "      <th>months</th>\n",
       "      <th>majorcards</th>\n",
       "      <th>active</th>\n",
       "    </tr>\n",
       "  </thead>\n",
       "  <tbody>\n",
       "    <tr>\n",
       "      <th>0</th>\n",
       "      <td>yes</td>\n",
       "      <td>0</td>\n",
       "      <td>37.66667</td>\n",
       "      <td>4.5200</td>\n",
       "      <td>0.033270</td>\n",
       "      <td>124.983300</td>\n",
       "      <td>yes</td>\n",
       "      <td>no</td>\n",
       "      <td>3</td>\n",
       "      <td>54</td>\n",
       "      <td>1</td>\n",
       "      <td>12</td>\n",
       "    </tr>\n",
       "    <tr>\n",
       "      <th>1</th>\n",
       "      <td>yes</td>\n",
       "      <td>0</td>\n",
       "      <td>33.25000</td>\n",
       "      <td>2.4200</td>\n",
       "      <td>0.005217</td>\n",
       "      <td>9.854167</td>\n",
       "      <td>no</td>\n",
       "      <td>no</td>\n",
       "      <td>3</td>\n",
       "      <td>34</td>\n",
       "      <td>1</td>\n",
       "      <td>13</td>\n",
       "    </tr>\n",
       "    <tr>\n",
       "      <th>2</th>\n",
       "      <td>yes</td>\n",
       "      <td>0</td>\n",
       "      <td>33.66667</td>\n",
       "      <td>4.5000</td>\n",
       "      <td>0.004156</td>\n",
       "      <td>15.000000</td>\n",
       "      <td>yes</td>\n",
       "      <td>no</td>\n",
       "      <td>4</td>\n",
       "      <td>58</td>\n",
       "      <td>1</td>\n",
       "      <td>5</td>\n",
       "    </tr>\n",
       "    <tr>\n",
       "      <th>3</th>\n",
       "      <td>yes</td>\n",
       "      <td>0</td>\n",
       "      <td>30.50000</td>\n",
       "      <td>2.5400</td>\n",
       "      <td>0.065214</td>\n",
       "      <td>137.869200</td>\n",
       "      <td>no</td>\n",
       "      <td>no</td>\n",
       "      <td>0</td>\n",
       "      <td>25</td>\n",
       "      <td>1</td>\n",
       "      <td>7</td>\n",
       "    </tr>\n",
       "    <tr>\n",
       "      <th>4</th>\n",
       "      <td>yes</td>\n",
       "      <td>0</td>\n",
       "      <td>32.16667</td>\n",
       "      <td>9.7867</td>\n",
       "      <td>0.067051</td>\n",
       "      <td>546.503300</td>\n",
       "      <td>yes</td>\n",
       "      <td>no</td>\n",
       "      <td>2</td>\n",
       "      <td>64</td>\n",
       "      <td>1</td>\n",
       "      <td>5</td>\n",
       "    </tr>\n",
       "  </tbody>\n",
       "</table>\n",
       "</div>"
      ],
      "text/plain": [
       "  card  reports       age  income     share  expenditure owner selfemp  \\\n",
       "0  yes        0  37.66667  4.5200  0.033270   124.983300   yes      no   \n",
       "1  yes        0  33.25000  2.4200  0.005217     9.854167    no      no   \n",
       "2  yes        0  33.66667  4.5000  0.004156    15.000000   yes      no   \n",
       "3  yes        0  30.50000  2.5400  0.065214   137.869200    no      no   \n",
       "4  yes        0  32.16667  9.7867  0.067051   546.503300   yes      no   \n",
       "\n",
       "   dependents  months  majorcards  active  \n",
       "0           3      54           1      12  \n",
       "1           3      34           1      13  \n",
       "2           4      58           1       5  \n",
       "3           0      25           1       7  \n",
       "4           2      64           1       5  "
      ]
     },
     "execution_count": 5,
     "metadata": {},
     "output_type": "execute_result"
    }
   ],
   "source": [
    "df=pd.read_csv(r'C:\\Users\\sudip\\ICG02\\venv\\dataset\\AER_credit_card_data.csv')\n",
    "df.head()"
   ]
  },
  {
   "cell_type": "code",
   "execution_count": 7,
   "id": "6af22836",
   "metadata": {},
   "outputs": [],
   "source": [
    "mapping={'yes':1,'no':0}\n",
    "df['card']=df['card'].map(mapping)"
   ]
  },
  {
   "cell_type": "code",
   "execution_count": 9,
   "id": "7a115ac2",
   "metadata": {},
   "outputs": [],
   "source": [
    "df.rename(columns={'card':'target'},inplace=True)"
   ]
  },
  {
   "cell_type": "code",
   "execution_count": 12,
   "id": "6ffc8635",
   "metadata": {},
   "outputs": [
    {
     "data": {
      "application/vnd.microsoft.datawrangler.viewer.v0+json": {
       "columns": [
        {
         "name": "target",
         "rawType": "int64",
         "type": "integer"
        },
        {
         "name": "count",
         "rawType": "int64",
         "type": "integer"
        }
       ],
       "ref": "47979a47-8805-45e0-89ef-2001443327d9",
       "rows": [
        [
         "1",
         "1023"
        ],
        [
         "0",
         "296"
        ]
       ],
       "shape": {
        "columns": 1,
        "rows": 2
       }
      },
      "text/plain": [
       "target\n",
       "1    1023\n",
       "0     296\n",
       "Name: count, dtype: int64"
      ]
     },
     "execution_count": 12,
     "metadata": {},
     "output_type": "execute_result"
    }
   ],
   "source": [
    "df.target.value_counts()"
   ]
  },
  {
   "cell_type": "code",
   "execution_count": 10,
   "id": "14f0e10b",
   "metadata": {},
   "outputs": [
    {
     "data": {
      "text/plain": [
       "Index(['target', 'reports', 'age', 'income', 'share', 'expenditure', 'owner',\n",
       "       'selfemp', 'dependents', 'months', 'majorcards', 'active'],\n",
       "      dtype='object')"
      ]
     },
     "execution_count": 10,
     "metadata": {},
     "output_type": "execute_result"
    }
   ],
   "source": [
    "df.columns"
   ]
  },
  {
   "cell_type": "code",
   "execution_count": 13,
   "id": "fbfcd6eb",
   "metadata": {},
   "outputs": [
    {
     "data": {
      "application/vnd.microsoft.datawrangler.viewer.v0+json": {
       "columns": [
        {
         "name": "index",
         "rawType": "object",
         "type": "string"
        },
        {
         "name": "count",
         "rawType": "float64",
         "type": "float"
        },
        {
         "name": "mean",
         "rawType": "float64",
         "type": "float"
        },
        {
         "name": "std",
         "rawType": "float64",
         "type": "float"
        },
        {
         "name": "min",
         "rawType": "float64",
         "type": "float"
        },
        {
         "name": "25%",
         "rawType": "float64",
         "type": "float"
        },
        {
         "name": "50%",
         "rawType": "float64",
         "type": "float"
        },
        {
         "name": "75%",
         "rawType": "float64",
         "type": "float"
        },
        {
         "name": "max",
         "rawType": "float64",
         "type": "float"
        }
       ],
       "ref": "df8a2f00-0aef-4761-8350-40b4f15c4fb9",
       "rows": [
        [
         "target",
         "1319.0",
         "0.775587566338135",
         "0.41735302869212365",
         "0.0",
         "1.0",
         "1.0",
         "1.0",
         "1.0"
        ],
        [
         "reports",
         "1319.0",
         "0.4564063684609553",
         "1.3452674780113136",
         "0.0",
         "0.0",
         "0.0",
         "0.0",
         "14.0"
        ],
        [
         "age",
         "1319.0",
         "33.21310325496589",
         "10.142783154539721",
         "0.1666667",
         "25.41667",
         "31.25",
         "39.41667",
         "83.5"
        ],
        [
         "income",
         "1319.0",
         "3.3653760424564068",
         "1.6939017383269124",
         "0.21",
         "2.24375",
         "2.9",
         "4.0",
         "13.5"
        ],
        [
         "share",
         "1319.0",
         "0.06873217313987869",
         "0.0946555652558556",
         "0.0001090909",
         "0.0023159225",
         "0.03882722",
         "0.09361682499999999",
         "0.9063205"
        ],
        [
         "expenditure",
         "1319.0",
         "185.05707077839273",
         "272.21891749553544",
         "0.0",
         "4.5833330000000005",
         "101.2983",
         "249.0358",
         "3099.505"
        ],
        [
         "dependents",
         "1319.0",
         "0.9939347990902199",
         "1.2477450004043018",
         "0.0",
         "0.0",
         "1.0",
         "2.0",
         "6.0"
        ],
        [
         "months",
         "1319.0",
         "55.26762699014405",
         "66.2717455231354",
         "0.0",
         "12.0",
         "30.0",
         "72.0",
         "540.0"
        ],
        [
         "majorcards",
         "1319.0",
         "0.8172858225928734",
         "0.3865785909932502",
         "0.0",
         "1.0",
         "1.0",
         "1.0",
         "1.0"
        ],
        [
         "active",
         "1319.0",
         "6.99696739954511",
         "6.305812278353337",
         "0.0",
         "2.0",
         "6.0",
         "11.0",
         "46.0"
        ]
       ],
       "shape": {
        "columns": 8,
        "rows": 10
       }
      },
      "text/html": [
       "<div>\n",
       "<style scoped>\n",
       "    .dataframe tbody tr th:only-of-type {\n",
       "        vertical-align: middle;\n",
       "    }\n",
       "\n",
       "    .dataframe tbody tr th {\n",
       "        vertical-align: top;\n",
       "    }\n",
       "\n",
       "    .dataframe thead th {\n",
       "        text-align: right;\n",
       "    }\n",
       "</style>\n",
       "<table border=\"1\" class=\"dataframe\">\n",
       "  <thead>\n",
       "    <tr style=\"text-align: right;\">\n",
       "      <th></th>\n",
       "      <th>count</th>\n",
       "      <th>mean</th>\n",
       "      <th>std</th>\n",
       "      <th>min</th>\n",
       "      <th>25%</th>\n",
       "      <th>50%</th>\n",
       "      <th>75%</th>\n",
       "      <th>max</th>\n",
       "    </tr>\n",
       "  </thead>\n",
       "  <tbody>\n",
       "    <tr>\n",
       "      <th>target</th>\n",
       "      <td>1319.0</td>\n",
       "      <td>0.775588</td>\n",
       "      <td>0.417353</td>\n",
       "      <td>0.000000</td>\n",
       "      <td>1.000000</td>\n",
       "      <td>1.000000</td>\n",
       "      <td>1.000000</td>\n",
       "      <td>1.00000</td>\n",
       "    </tr>\n",
       "    <tr>\n",
       "      <th>reports</th>\n",
       "      <td>1319.0</td>\n",
       "      <td>0.456406</td>\n",
       "      <td>1.345267</td>\n",
       "      <td>0.000000</td>\n",
       "      <td>0.000000</td>\n",
       "      <td>0.000000</td>\n",
       "      <td>0.000000</td>\n",
       "      <td>14.00000</td>\n",
       "    </tr>\n",
       "    <tr>\n",
       "      <th>age</th>\n",
       "      <td>1319.0</td>\n",
       "      <td>33.213103</td>\n",
       "      <td>10.142783</td>\n",
       "      <td>0.166667</td>\n",
       "      <td>25.416670</td>\n",
       "      <td>31.250000</td>\n",
       "      <td>39.416670</td>\n",
       "      <td>83.50000</td>\n",
       "    </tr>\n",
       "    <tr>\n",
       "      <th>income</th>\n",
       "      <td>1319.0</td>\n",
       "      <td>3.365376</td>\n",
       "      <td>1.693902</td>\n",
       "      <td>0.210000</td>\n",
       "      <td>2.243750</td>\n",
       "      <td>2.900000</td>\n",
       "      <td>4.000000</td>\n",
       "      <td>13.50000</td>\n",
       "    </tr>\n",
       "    <tr>\n",
       "      <th>share</th>\n",
       "      <td>1319.0</td>\n",
       "      <td>0.068732</td>\n",
       "      <td>0.094656</td>\n",
       "      <td>0.000109</td>\n",
       "      <td>0.002316</td>\n",
       "      <td>0.038827</td>\n",
       "      <td>0.093617</td>\n",
       "      <td>0.90632</td>\n",
       "    </tr>\n",
       "    <tr>\n",
       "      <th>expenditure</th>\n",
       "      <td>1319.0</td>\n",
       "      <td>185.057071</td>\n",
       "      <td>272.218917</td>\n",
       "      <td>0.000000</td>\n",
       "      <td>4.583333</td>\n",
       "      <td>101.298300</td>\n",
       "      <td>249.035800</td>\n",
       "      <td>3099.50500</td>\n",
       "    </tr>\n",
       "    <tr>\n",
       "      <th>dependents</th>\n",
       "      <td>1319.0</td>\n",
       "      <td>0.993935</td>\n",
       "      <td>1.247745</td>\n",
       "      <td>0.000000</td>\n",
       "      <td>0.000000</td>\n",
       "      <td>1.000000</td>\n",
       "      <td>2.000000</td>\n",
       "      <td>6.00000</td>\n",
       "    </tr>\n",
       "    <tr>\n",
       "      <th>months</th>\n",
       "      <td>1319.0</td>\n",
       "      <td>55.267627</td>\n",
       "      <td>66.271746</td>\n",
       "      <td>0.000000</td>\n",
       "      <td>12.000000</td>\n",
       "      <td>30.000000</td>\n",
       "      <td>72.000000</td>\n",
       "      <td>540.00000</td>\n",
       "    </tr>\n",
       "    <tr>\n",
       "      <th>majorcards</th>\n",
       "      <td>1319.0</td>\n",
       "      <td>0.817286</td>\n",
       "      <td>0.386579</td>\n",
       "      <td>0.000000</td>\n",
       "      <td>1.000000</td>\n",
       "      <td>1.000000</td>\n",
       "      <td>1.000000</td>\n",
       "      <td>1.00000</td>\n",
       "    </tr>\n",
       "    <tr>\n",
       "      <th>active</th>\n",
       "      <td>1319.0</td>\n",
       "      <td>6.996967</td>\n",
       "      <td>6.305812</td>\n",
       "      <td>0.000000</td>\n",
       "      <td>2.000000</td>\n",
       "      <td>6.000000</td>\n",
       "      <td>11.000000</td>\n",
       "      <td>46.00000</td>\n",
       "    </tr>\n",
       "  </tbody>\n",
       "</table>\n",
       "</div>"
      ],
      "text/plain": [
       "              count        mean         std       min        25%         50%  \\\n",
       "target       1319.0    0.775588    0.417353  0.000000   1.000000    1.000000   \n",
       "reports      1319.0    0.456406    1.345267  0.000000   0.000000    0.000000   \n",
       "age          1319.0   33.213103   10.142783  0.166667  25.416670   31.250000   \n",
       "income       1319.0    3.365376    1.693902  0.210000   2.243750    2.900000   \n",
       "share        1319.0    0.068732    0.094656  0.000109   0.002316    0.038827   \n",
       "expenditure  1319.0  185.057071  272.218917  0.000000   4.583333  101.298300   \n",
       "dependents   1319.0    0.993935    1.247745  0.000000   0.000000    1.000000   \n",
       "months       1319.0   55.267627   66.271746  0.000000  12.000000   30.000000   \n",
       "majorcards   1319.0    0.817286    0.386579  0.000000   1.000000    1.000000   \n",
       "active       1319.0    6.996967    6.305812  0.000000   2.000000    6.000000   \n",
       "\n",
       "                    75%         max  \n",
       "target         1.000000     1.00000  \n",
       "reports        0.000000    14.00000  \n",
       "age           39.416670    83.50000  \n",
       "income         4.000000    13.50000  \n",
       "share          0.093617     0.90632  \n",
       "expenditure  249.035800  3099.50500  \n",
       "dependents     2.000000     6.00000  \n",
       "months        72.000000   540.00000  \n",
       "majorcards     1.000000     1.00000  \n",
       "active        11.000000    46.00000  "
      ]
     },
     "execution_count": 13,
     "metadata": {},
     "output_type": "execute_result"
    }
   ],
   "source": [
    "df.describe().T"
   ]
  },
  {
   "cell_type": "markdown",
   "id": "094430f8",
   "metadata": {},
   "source": [
    "### Implementing Decision Tree from scratch"
   ]
  },
  {
   "cell_type": "markdown",
   "id": "5a8ef76d",
   "metadata": {},
   "source": [
    "#### Defining Node Class:"
   ]
  },
  {
   "cell_type": "code",
   "execution_count": null,
   "id": "f514c5c8",
   "metadata": {},
   "outputs": [],
   "source": [
    "class node():\n",
    "    def __init__(self,feature=None,threshold=None,left=None,right=None,entropy_gain=None,value=None):\n",
    "        self.feature=feature#parameters splitting the data\n",
    "        self.threshold=threshold#boundary conditions \n",
    "        self.left=left#left node\n",
    "        self.right=right#right node\n",
    "        self.entropy_gain=entropy_gain#order of disorientedness\n",
    "        self.value=value      "
   ]
  },
  {
   "cell_type": "markdown",
   "id": "01935add",
   "metadata": {},
   "source": [
    "#### Defining Tree Class:"
   ]
  },
  {
   "cell_type": "code",
   "execution_count": null,
   "id": "f1905709",
   "metadata": {},
   "outputs": [],
   "source": [
    "class decision_tree():\n",
    "    def __init__(self,max_depth=None,min_samples_split=2,min_samples_leaf=1,criterion='entropy'):\n",
    "        self.max_depth=max_depth\n",
    "        self.min_samples_split=min_samples_split\n",
    "        self.min_samples_leaf=min_samples_leaf\n",
    "        self.criterion=criterion\n",
    "        self.root=None\n",
    "    \n",
    "    def build_tree(self,x,y,current_depth=0):\n",
    "        n_samples,n_features=x.shape\n",
    "        unique_classes=np.unique(y)\n",
    "        #if only one class is present or max depth is reached or number of samples is less than min_samples_split\n",
    "        if (n_samples<self.min_samples_split or len(unique_classes)==1)or (self.max_depth is not None and current_depth>=self.max_depth):\n",
    "            leaf_value=self.most_common_class(y)\n",
    "            return node(value=leaf_value)  \n",
    "        #if the number of samples is leass than min_samples_leaf\n",
    "        \n",
    "        if n_samples<self.min_samples_leaf:\n",
    "            leaf_value=self.most_common_class(y)\n",
    "            return node(value=leaf_value) \n",
    "        \n",
    "        #if the number of feature is zero\n",
    "        if n_features==0:\n",
    "            leaf_value=self.most_common_class(y)\n",
    "            return node(value=leaf_value)\n",
    "        #if the nmber of features is greater than zero\n",
    "        best_feate,best_threshold,best_gain=self.get_best_split(x,y,n_features)\n",
    "        if best_gain==0:\n",
    "            leaf_value=self.most_common_class(y)\n",
    "            return(node(value=leaf_value))\n",
    "        left=np.where(x[:,best_feate]<=best_threshold)\n",
    "        right=np.where(x[:,best_feate]>best_threshold)\n",
    "        left_node=self.build_tree(x[left],y[left],current_depth+1)\n",
    "        right_node=self.build_tree(x[right],y[right],current_depth+1)\n",
    "        return node(feature=best_feate,threshold=best_threshold,left=left_node,right=right_node,entropy_gain=best_gain)\n",
    "    \n",
    "    def get_best_split(self,x,y,n_features):\n",
    "        best_gain=0\n",
    "        best_feature=None\n",
    "        best_threshold=None\n",
    "        for feature in range(n_features):\n",
    "            thresholds=np.unique(x[:,feature])\n",
    "            for threshold in thresholds:\n",
    "                left_indices=np.where(x[:,feature]<=threshold)\n",
    "                right_indices=np.where(x[:,feature]>threshold)\n",
    "                if len(left_indices[0])==0 or len(right_indices[0])==0:\n",
    "                    continue\n",
    "                gain=self.entropy_gain(y[left_indices],y[right_indices])\n",
    "                if gain>best_gain:\n",
    "                    best_gain=gain\n",
    "                    best_feature=feature\n",
    "                    best_threshold=threshold\n",
    "        return best_feature,best_threshold,best_gain\n",
    "    \n",
    "    def entropy_gain(self,left_y,right_y):\n",
    "        p_left=len(left_y)/(len(left_y)+len(right_y))\n",
    "        p_right=len(right_y)/(len(left_y)+len(right_y))\n",
    "        return self.entropy(left_y)*p_left+self.entropy(right_y)*p_right    \n",
    "    \n",
    "    def entropy(self,y):\n",
    "        if len(y)==0:\n",
    "            return 0\n",
    "        class_labels,counts=np.unique(y,return_counts=True)\n",
    "        probabilities=counts/len(y)\n",
    "        return -np.sum(probabilities*np.log2(probabilities+1e-9))\n",
    "    \n",
    "    def most_common_class(self,y):\n",
    "        class_labels,counts=np.unique(y,return_counts=True)\n",
    "        return class_labels[np.argmax(counts)]\n",
    "    \n",
    "    def fit(self,x,y):\n",
    "        self.root=self.build_tree(x,y)\n",
    "        \n",
    "    def predict_sample(self,sample,node):\n",
    "        if node.value is not None:\n",
    "            return node.value\n",
    "        if sample[node.feature]<=node.threshold:\n",
    "            return self.predict_sample(sample,node.left)\n",
    "        else:\n",
    "            return self.predict_sample(sample,node.right)\n",
    "        \n",
    "    def predict(self,x):\n",
    "        predictions=[]\n",
    "        for sample in x:\n",
    "            prediction=self.predict_sample(sample,self.root)\n",
    "            predictions.append(prediction)\n",
    "        return np.array(predictions)    \n",
    "    \n",
    "    def score(self,x,y):\n",
    "        predictions=self.predict(x)\n",
    "        accuracy=np.sum(predictions==y)/len(y)\n",
    "        return accuracy\n",
    "    \n",
    "    def print_tree(self,node=None,depth=0):\n",
    "        if node is None:\n",
    "            node=self.root\n",
    "        if node.value is not None:\n",
    "            print(f\"{' ' * depth}Leaf: {node.value}\")\n",
    "            return\n",
    "        print(f\"{' ' * depth}Feature: {node.feature}, Threshold: {node.threshold}, Gain: {node.entropy_gain}\")\n",
    "        self.print_tree(node.left,depth+1)\n",
    "        self.print_tree(node.right,depth+1)\n",
    "        \n",
    "    \n",
    "        "
   ]
  },
  {
   "cell_type": "markdown",
   "id": "b80ef40c",
   "metadata": {},
   "source": [
    "#### Train-Test Spilt"
   ]
  },
  {
   "cell_type": "code",
   "execution_count": 73,
   "id": "2bfd34a2",
   "metadata": {},
   "outputs": [],
   "source": [
    "#train-test split\n",
    "X=df.drop('target',axis=1).values\n",
    "y=df['target'].values\n",
    "X_train,X_test,y_train,y_test=train_test_split(X,y,test_size=0.2,random_state=41)"
   ]
  },
  {
   "cell_type": "code",
   "execution_count": 74,
   "id": "e11002da",
   "metadata": {},
   "outputs": [],
   "source": [
    "classifier = decision_tree(max_depth=5, min_samples_split=2, min_samples_leaf=1, criterion='entropy')\n",
    "classifier.fit(X_train, y_train)"
   ]
  },
  {
   "cell_type": "markdown",
   "id": "c3cfc4d4",
   "metadata": {},
   "source": [
    "#### Tree printing"
   ]
  },
  {
   "cell_type": "code",
   "execution_count": 75,
   "id": "482e71c1",
   "metadata": {},
   "outputs": [
    {
     "name": "stdout",
     "output_type": "stream",
     "text": [
      "Feature: 8, Threshold: 192, Gain: 0.7818741470932644\n",
      " Feature: 1, Threshold: 37.33333, Gain: 0.7818822460302013\n",
      "  Feature: 8, Threshold: 85, Gain: 0.7817280910003978\n",
      "   Feature: 1, Threshold: 26.41667, Gain: 0.7817748794764583\n",
      "    Feature: 1, Threshold: 21.41667, Gain: 0.7817279928051674\n",
      "     Leaf: 1\n",
      "     Leaf: 1\n",
      "    Feature: 1, Threshold: 37.0, Gain: 0.7818091346950105\n",
      "     Leaf: 1\n",
      "     Leaf: 1\n",
      "   Feature: 8, Threshold: 147, Gain: 0.7812800367087915\n",
      "    Feature: 1, Threshold: 34.08333, Gain: 0.7817258087089802\n",
      "     Leaf: 1\n",
      "     Leaf: 1\n",
      "    Feature: 2, Threshold: 1.85, Gain: 0.7786886937618496\n",
      "     Leaf: 1\n",
      "     Leaf: 1\n",
      "  Feature: 8, Threshold: 16, Gain: 0.7822962780428078\n",
      "   Feature: 1, Threshold: 47.33333, Gain: 0.782438515936427\n",
      "    Feature: 1, Threshold: 41.08333, Gain: 0.7837566587885658\n",
      "     Leaf: 1\n",
      "     Leaf: 1\n",
      "    Feature: 2, Threshold: 3.6, Gain: 0.7786886937618496\n",
      "     Leaf: 1\n",
      "     Leaf: 1\n",
      "   Feature: 1, Threshold: 54.75, Gain: 0.7822657776132207\n",
      "    Feature: 8, Threshold: 33, Gain: 0.7818729380779127\n",
      "     Leaf: 1\n",
      "     Leaf: 1\n",
      "    Feature: 1, Threshold: 63.75, Gain: 0.7868623725636473\n",
      "     Leaf: 1\n",
      "     Leaf: 1\n",
      " Feature: 2, Threshold: 4.5, Gain: 0.7817258087089802\n",
      "  Feature: 2, Threshold: 3.4838, Gain: 0.782438515936427\n",
      "   Feature: 1, Threshold: 52.16667, Gain: 0.7837566587885658\n",
      "    Feature: 7, Threshold: 0, Gain: 0.7868623725636473\n",
      "     Leaf: 1\n",
      "     Leaf: 1\n",
      "    Feature: 2, Threshold: 1.8744, Gain: 0.7786886937618496\n",
      "     Leaf: 1\n",
      "     Leaf: 1\n",
      "   Feature: 1, Threshold: 36.0, Gain: 0.7786886937618496\n",
      "    Feature: 1, Threshold: 22.41667, Gain: 0.6887218730161508\n",
      "     Leaf: 1\n",
      "     Leaf: 1\n",
      "    Feature: 2, Threshold: 3.8425, Gain: 0.7616392162560924\n",
      "     Leaf: 1\n",
      "     Leaf: 1\n",
      "  Feature: 1, Threshold: 47.41667, Gain: 0.7786886937618496\n",
      "   Feature: 1, Threshold: 25.08333, Gain: 0.6887218730161508\n",
      "    Leaf: 1\n",
      "    Feature: 0, Threshold: 0, Gain: 0.6666666642621748\n",
      "     Leaf: 1\n",
      "     Leaf: 0\n",
      "   Feature: 1, Threshold: 53.0, Gain: 0.7616392162560924\n",
      "    Feature: 1, Threshold: 47.83333, Gain: 0.6490224969704552\n",
      "     Leaf: 1\n",
      "     Leaf: 1\n",
      "    Feature: 1, Threshold: 55.16667, Gain: 0.6887218730161508\n",
      "     Leaf: 1\n",
      "     Leaf: 1\n",
      "None\n"
     ]
    }
   ],
   "source": [
    "print(classifier.print_tree())"
   ]
  },
  {
   "cell_type": "markdown",
   "id": "11841f6e",
   "metadata": {},
   "source": [
    "#### Metrices"
   ]
  },
  {
   "cell_type": "code",
   "execution_count": 78,
   "id": "086e4388",
   "metadata": {},
   "outputs": [
    {
     "data": {
      "text/plain": [
       "0.8068181818181818"
      ]
     },
     "execution_count": 78,
     "metadata": {},
     "output_type": "execute_result"
    }
   ],
   "source": [
    "y_pred = classifier.predict(X_test) \n",
    "from sklearn.metrics import accuracy_score,confusion_matrix,classification_report\n",
    "accuracy_score(y_test, y_pred)"
   ]
  },
  {
   "cell_type": "code",
   "execution_count": 79,
   "id": "cf4ec6be",
   "metadata": {},
   "outputs": [
    {
     "data": {
      "text/plain": [
       "array([[  0,  51],\n",
       "       [  0, 213]])"
      ]
     },
     "execution_count": 79,
     "metadata": {},
     "output_type": "execute_result"
    }
   ],
   "source": [
    "confusion_matrix(y_test, y_pred)"
   ]
  }
 ],
 "metadata": {
  "kernelspec": {
   "display_name": "Python 3",
   "language": "python",
   "name": "python3"
  },
  "language_info": {
   "codemirror_mode": {
    "name": "ipython",
    "version": 3
   },
   "file_extension": ".py",
   "mimetype": "text/x-python",
   "name": "python",
   "nbconvert_exporter": "python",
   "pygments_lexer": "ipython3",
   "version": "3.11.9"
  }
 },
 "nbformat": 4,
 "nbformat_minor": 5
}

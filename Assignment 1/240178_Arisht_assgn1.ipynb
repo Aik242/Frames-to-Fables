{
  "nbformat": 4,
  "nbformat_minor": 0,
  "metadata": {
    "colab": {
      "provenance": []
    },
    "kernelspec": {
      "name": "python3",
      "display_name": "Python 3"
    },
    "language_info": {
      "name": "python"
    }
  },
  "cells": [
    {
      "cell_type": "markdown",
      "source": [
        "Instructions for the assignment\n",
        "\n",
        "\n",
        "*   Fill the codeblocks according to the comments given\n",
        "*   Hints are given wherever required\n",
        "*   Please note that copying will not be tolerated, and appropriate action will be taken if we suspect any misconduct.\n",
        "*   You're welcome to utilize any online resources in case you feel stuck anywhere\n",
        "\n",
        "\n",
        "\n",
        "\n",
        "\n",
        "\n",
        "\n"
      ],
      "metadata": {
        "id": "kIAcUXNYVeGR"
      }
    },
    {
      "cell_type": "markdown",
      "source": [
        "# Section A *(2 Marks each)*"
      ],
      "metadata": {
        "id": "UhXvUdK6Stt_"
      }
    },
    {
      "cell_type": "markdown",
      "source": [
        "## NumPy (Numerical Python)\n",
        "\n",
        "### Multidimensional array object\n",
        "- Array is a grid of homogeneous elements which can be indexed in various ways\n",
        "- Different from Python list which can store different data types\n",
        "- NumPy stores multidimensional arrays as an instance of **ndarray**\n",
        "\n"
      ],
      "metadata": {
        "id": "oc77CrhjAGlR"
      }
    },
    {
      "cell_type": "code",
      "source": [
        "import numpy as np"
      ],
      "metadata": {
        "id": "WGtRigfyBpgb"
      },
      "execution_count": 2,
      "outputs": []
    },
    {
      "cell_type": "code",
      "execution_count": 3,
      "metadata": {
        "id": "UR9ftRnU8_lu",
        "colab": {
          "base_uri": "https://localhost:8080/"
        },
        "outputId": "88e332e8-3766-45a2-f25e-dfa92fd0cdd3"
      },
      "outputs": [
        {
          "output_type": "stream",
          "name": "stdout",
          "text": [
            "[1 2 3 4 5]\n",
            "[[1 2 3]\n",
            " [4 5 6]\n",
            " [7 8 9]]\n"
          ]
        }
      ],
      "source": [
        "a=np.array([1,2,3,4,5])\n",
        "b=np.array([[1,2,3],[4,5,6],[7,8,9]])\n",
        "print(a)\n",
        "print(b)"
      ]
    },
    {
      "cell_type": "code",
      "source": [
        "ran=np.random.rand(3,4)\n",
        "zeros=np.zeros((3,4))\n",
        "ones=np.ones((3,4))\n",
        "print(ran)\n",
        "print(zeros)\n",
        "print(ones)"
      ],
      "metadata": {
        "id": "WZf-M7KnBkhu",
        "colab": {
          "base_uri": "https://localhost:8080/"
        },
        "outputId": "ec026382-78be-4322-836b-c9763fe371ac"
      },
      "execution_count": 4,
      "outputs": [
        {
          "output_type": "stream",
          "name": "stdout",
          "text": [
            "[[0.2740189  0.83451941 0.23037112 0.33408153]\n",
            " [0.01244484 0.28804699 0.05499968 0.22953288]\n",
            " [0.31877441 0.5398656  0.01067785 0.1313648 ]]\n",
            "[[0. 0. 0. 0.]\n",
            " [0. 0. 0. 0.]\n",
            " [0. 0. 0. 0.]]\n",
            "[[1. 1. 1. 1.]\n",
            " [1. 1. 1. 1.]\n",
            " [1. 1. 1. 1.]]\n"
          ]
        }
      ]
    },
    {
      "cell_type": "code",
      "source": [
        "range=np.arange(0,17,4)\n",
        "print(range)"
      ],
      "metadata": {
        "id": "Uagv5WtWBknb",
        "colab": {
          "base_uri": "https://localhost:8080/"
        },
        "outputId": "cc0950bf-efb0-4b85-fe13-592f4b681d94"
      },
      "execution_count": 6,
      "outputs": [
        {
          "output_type": "stream",
          "name": "stdout",
          "text": [
            "[ 0  4  8 12 16]\n"
          ]
        }
      ]
    },
    {
      "cell_type": "markdown",
      "source": [
        "### Basic array operations\n",
        "- algebraic operations\n",
        "- logical operations"
      ],
      "metadata": {
        "id": "dFeKiGA5CNXx"
      }
    },
    {
      "cell_type": "code",
      "source": [
        "a = np.array([[-4,6,8], [9, 3, 1], [1, 8, 5]])\n",
        "b = np.array([[11,16,18], [90, 37, 81], [61, 48, 75]])"
      ],
      "metadata": {
        "id": "mZbgCNnRDVbV"
      },
      "execution_count": 7,
      "outputs": []
    },
    {
      "cell_type": "code",
      "source": [
        "print(np.add(a,b))\n",
        "print(np.subtract(a,b))\n",
        "print(np.multiply(a,b))\n",
        "print(np.divide(a,b))"
      ],
      "metadata": {
        "id": "QajfAkNHCMqe",
        "colab": {
          "base_uri": "https://localhost:8080/"
        },
        "outputId": "106d04c7-0f1a-454d-c73a-726f928ee687"
      },
      "execution_count": 9,
      "outputs": [
        {
          "output_type": "stream",
          "name": "stdout",
          "text": [
            "[[ 7 22 26]\n",
            " [99 40 82]\n",
            " [62 56 80]]\n",
            "[[-15 -10 -10]\n",
            " [-81 -34 -80]\n",
            " [-60 -40 -70]]\n",
            "[[-44  96 144]\n",
            " [810 111  81]\n",
            " [ 61 384 375]]\n",
            "[[-0.36363636  0.375       0.44444444]\n",
            " [ 0.1         0.08108108  0.01234568]\n",
            " [ 0.01639344  0.16666667  0.06666667]]\n"
          ]
        }
      ]
    },
    {
      "cell_type": "code",
      "source": [
        "print(np.sum(a,axis=0))\n",
        "print(np.sum(a,axis=1))"
      ],
      "metadata": {
        "id": "hfBR7r80C_qh",
        "colab": {
          "base_uri": "https://localhost:8080/"
        },
        "outputId": "ee131f00-2d54-4d23-c28a-b5d4226b3e4e"
      },
      "execution_count": 10,
      "outputs": [
        {
          "output_type": "stream",
          "name": "stdout",
          "text": [
            "[ 6 17 14]\n",
            "[10 13 14]\n"
          ]
        }
      ]
    },
    {
      "cell_type": "code",
      "source": [
        "print(np.flip(a))\n",
        "print(np.flip(a,axis=0))\n",
        "print(np.flip(a,axis=1))"
      ],
      "metadata": {
        "id": "rBTxfTuFDSiA",
        "colab": {
          "base_uri": "https://localhost:8080/"
        },
        "outputId": "c944afff-6cb6-4459-def0-d27c6d2b7665"
      },
      "execution_count": 13,
      "outputs": [
        {
          "output_type": "stream",
          "name": "stdout",
          "text": [
            "[[ 5  8  1]\n",
            " [ 1  3  9]\n",
            " [ 8  6 -4]]\n",
            "[[ 1  8  5]\n",
            " [ 9  3  1]\n",
            " [-4  6  8]]\n",
            "[[ 8  6 -4]\n",
            " [ 1  3  9]\n",
            " [ 5  8  1]]\n"
          ]
        }
      ]
    },
    {
      "cell_type": "markdown",
      "source": [
        "### Sorting and concatenation\n",
        "- sort arrays\n",
        "- join multiple arrays\n"
      ],
      "metadata": {
        "id": "WnCvXc3jCdWH"
      }
    },
    {
      "cell_type": "code",
      "source": [
        "a = np.array([[-4,6,8], [9, 3, 1], [1, 8, 5]])\n",
        "b = np.array([[11,16,18], [90, 37, 81], [61, 48, 75]])"
      ],
      "metadata": {
        "id": "Qsg-EPq7EbPx"
      },
      "execution_count": 14,
      "outputs": []
    },
    {
      "cell_type": "code",
      "source": [
        "print(np.sort(a))\n",
        "print(np.sort(a,axis=0))\n",
        "print(np.sort(a,axis=1))\n",
        "print(np.sort(a,axis=0)[::-1])"
      ],
      "metadata": {
        "id": "_7VfP1anCc0O",
        "colab": {
          "base_uri": "https://localhost:8080/"
        },
        "outputId": "84b6ec1b-0442-49f6-ac5a-7c9adb054e8a"
      },
      "execution_count": 15,
      "outputs": [
        {
          "output_type": "stream",
          "name": "stdout",
          "text": [
            "[[-4  6  8]\n",
            " [ 1  3  9]\n",
            " [ 1  5  8]]\n",
            "[[-4  3  1]\n",
            " [ 1  6  5]\n",
            " [ 9  8  8]]\n",
            "[[-4  6  8]\n",
            " [ 1  3  9]\n",
            " [ 1  5  8]]\n",
            "[[ 9  8  8]\n",
            " [ 1  6  5]\n",
            " [-4  3  1]]\n"
          ]
        }
      ]
    },
    {
      "cell_type": "code",
      "source": [
        "print(np.argsort(a,axis=0))\n",
        "print(np.argsort(a,axis=1))"
      ],
      "metadata": {
        "id": "6BqbtdLYEWng",
        "colab": {
          "base_uri": "https://localhost:8080/"
        },
        "outputId": "91dccd96-0c37-4678-e9ba-344d53175292"
      },
      "execution_count": 16,
      "outputs": [
        {
          "output_type": "stream",
          "name": "stdout",
          "text": [
            "[[0 1 1]\n",
            " [2 0 2]\n",
            " [1 2 0]]\n",
            "[[0 1 2]\n",
            " [2 1 0]\n",
            " [0 2 1]]\n"
          ]
        }
      ]
    },
    {
      "cell_type": "code",
      "source": [
        "print(np.concatenate((a,b)))\n",
        "print(np.concatenate((a,b),axis=0))\n",
        "print(np.stack((a,b),axis=0))"
      ],
      "metadata": {
        "id": "cixOoXZhEY8-",
        "colab": {
          "base_uri": "https://localhost:8080/"
        },
        "outputId": "bb4b87fe-a36a-477e-a257-9dfc381a61c7"
      },
      "execution_count": 19,
      "outputs": [
        {
          "output_type": "stream",
          "name": "stdout",
          "text": [
            "[[-4  6  8]\n",
            " [ 9  3  1]\n",
            " [ 1  8  5]\n",
            " [11 16 18]\n",
            " [90 37 81]\n",
            " [61 48 75]]\n",
            "[[-4  6  8]\n",
            " [ 9  3  1]\n",
            " [ 1  8  5]\n",
            " [11 16 18]\n",
            " [90 37 81]\n",
            " [61 48 75]]\n",
            "[[[-4  6  8]\n",
            "  [ 9  3  1]\n",
            "  [ 1  8  5]]\n",
            "\n",
            " [[11 16 18]\n",
            "  [90 37 81]\n",
            "  [61 48 75]]]\n"
          ]
        }
      ]
    },
    {
      "cell_type": "markdown",
      "source": [
        "### Reshaping arrays\n",
        "- the number of dimensions of the array\n",
        "-  shape of n-dimensional array as a tuple with n elements s.t. $i^{th}$ element is the length of the $i^{th}$ dimension of the array\n",
        "- total number of elements of the array\n",
        "- reshapes the array\n",
        "- flattens multidimensional array into a 1D array\n",
        "- adds new dimensions to the array"
      ],
      "metadata": {
        "id": "aY0j33z2EjNx"
      }
    },
    {
      "cell_type": "code",
      "source": [
        "a = np.array([[4,6,8], [9, 3, 1], [1, 8, 5]])"
      ],
      "metadata": {
        "id": "sStUkoh1FG4N"
      },
      "execution_count": 20,
      "outputs": []
    },
    {
      "cell_type": "code",
      "source": [
        "print(a.ndim)\n",
        "print(a.shape)\n",
        "print(a.size)"
      ],
      "metadata": {
        "id": "vb35oi57Ev1f",
        "colab": {
          "base_uri": "https://localhost:8080/"
        },
        "outputId": "34fc6a3d-7e9a-4deb-b7cb-84b5350e30c4"
      },
      "execution_count": 21,
      "outputs": [
        {
          "output_type": "stream",
          "name": "stdout",
          "text": [
            "2\n",
            "(3, 3)\n",
            "9\n"
          ]
        }
      ]
    },
    {
      "cell_type": "code",
      "source": [
        "print(np.reshape(a,(1,9)))"
      ],
      "metadata": {
        "id": "MznU0NWKE54c",
        "colab": {
          "base_uri": "https://localhost:8080/"
        },
        "outputId": "80996359-926f-435b-d63f-88151980e0ff"
      },
      "execution_count": 23,
      "outputs": [
        {
          "output_type": "stream",
          "name": "stdout",
          "text": [
            "[[4 6 8 9 3 1 1 8 5]]\n"
          ]
        }
      ]
    },
    {
      "cell_type": "code",
      "source": [
        "print(a[np.newaxis,:])\n",
        "print(np.expand_dims(a,axis=0))"
      ],
      "metadata": {
        "id": "p1dlxcNYE8tv",
        "colab": {
          "base_uri": "https://localhost:8080/"
        },
        "outputId": "f6f6082e-56a5-4cf9-8068-13e8f642f380"
      },
      "execution_count": 30,
      "outputs": [
        {
          "output_type": "stream",
          "name": "stdout",
          "text": [
            "[[[4 6 8]\n",
            "  [9 3 1]\n",
            "  [1 8 5]]]\n",
            "[[[4 6 8]\n",
            "  [9 3 1]\n",
            "  [1 8 5]]]\n"
          ]
        }
      ]
    },
    {
      "cell_type": "markdown",
      "source": [
        "### Indexing and slicing\n",
        "- NumPy allows indexing array using tuple of nonnegative integers, booleans, array or integers"
      ],
      "metadata": {
        "id": "Ng4xWkwpFtao"
      }
    },
    {
      "cell_type": "code",
      "source": [
        "a = np.array([[4,6,0], [0, 3, 1], [1, 8, 5]])"
      ],
      "metadata": {
        "id": "swrtOhPGGB7r"
      },
      "execution_count": 32,
      "outputs": []
    },
    {
      "cell_type": "code",
      "source": [
        "print(a[0,0])\n",
        "print(a[(0,0)])\n",
        "print(a[np.arange(0,2),np.arange(0,2)])"
      ],
      "metadata": {
        "id": "w3QaVYRyFs77",
        "colab": {
          "base_uri": "https://localhost:8080/"
        },
        "outputId": "378cfca5-19c6-4fce-e4dd-165e88025c4f"
      },
      "execution_count": 44,
      "outputs": [
        {
          "output_type": "stream",
          "name": "stdout",
          "text": [
            "4\n",
            "4\n",
            "[4 3]\n"
          ]
        }
      ]
    },
    {
      "cell_type": "code",
      "source": [
        "print(a[a>4])\n",
        "print(a[(a>4)&(a%2==0)])"
      ],
      "metadata": {
        "id": "Xn2_z5h-Fmrd",
        "colab": {
          "base_uri": "https://localhost:8080/"
        },
        "outputId": "3b115bac-35f3-482c-e213-ded76ccf4694"
      },
      "execution_count": 50,
      "outputs": [
        {
          "output_type": "stream",
          "name": "stdout",
          "text": [
            "[6 8 5]\n",
            "[6 8]\n"
          ]
        }
      ]
    },
    {
      "cell_type": "markdown",
      "source": [
        "### Copying arrays\n",
        "- new array object with a copy of the data\n",
        "- Changes made in the copy array is not reflected in the original array"
      ],
      "metadata": {
        "id": "GWU0EfaAG2ll"
      }
    },
    {
      "cell_type": "code",
      "source": [
        "a = np.array([[4,6,0], [0, 3, 1], [1, 8, 5]])"
      ],
      "metadata": {
        "id": "ijdgy02lHMJW"
      },
      "execution_count": 51,
      "outputs": []
    },
    {
      "cell_type": "code",
      "source": [
        "b=np.copy(a)\n",
        "b=b+1\n",
        "print(b)"
      ],
      "metadata": {
        "id": "FmgUdh66GuQH",
        "colab": {
          "base_uri": "https://localhost:8080/"
        },
        "outputId": "76272d56-7ca0-4b02-e87e-5e218c2e0a60"
      },
      "execution_count": 52,
      "outputs": [
        {
          "output_type": "stream",
          "name": "stdout",
          "text": [
            "[[5 7 1]\n",
            " [1 4 2]\n",
            " [2 9 6]]\n"
          ]
        }
      ]
    },
    {
      "cell_type": "markdown",
      "source": [
        "## Pandas ( Python Data Analysis Library)\n",
        "\n",
        "### Main Features\n",
        "- Easy handling of missing data in both floating point and non-floating point data.\n",
        "- Automatic and explicit data alignment, making it easy to perform computations and transformations on data sets.\n",
        "\n"
      ],
      "metadata": {
        "id": "M1KLD5QxHsVw"
      }
    },
    {
      "cell_type": "markdown",
      "source": [
        "#### Generating the dataset"
      ],
      "metadata": {
        "id": "v1CuU3FeIq1a"
      }
    },
    {
      "cell_type": "markdown",
      "source": [
        "Run the following load command to get the 2-Dim iris dataset. Do the following operations on it and please dont edit this cell"
      ],
      "metadata": {
        "id": "fp36ZqOMIy7k"
      }
    },
    {
      "cell_type": "code",
      "source": [
        "url = 'https://archive.ics.uci.edu/ml/machine-learning-databases/iris/iris.data'\n",
        "iris_2d = np.genfromtxt(url, delimiter=',', dtype='float', usecols=[0,1,2,3])"
      ],
      "metadata": {
        "id": "A_O5RTBXIyK-"
      },
      "execution_count": 53,
      "outputs": []
    },
    {
      "cell_type": "markdown",
      "source": [
        "#### Basic Data Analysis"
      ],
      "metadata": {
        "id": "EILb6pPrS8Ju"
      }
    },
    {
      "cell_type": "code",
      "source": [
        "import pandas as pd\n",
        "db=pd.DataFrame(data=iris_2d,columns=['sepal length','sepal width','petal length','petal width'])\n",
        "db.dropna(inplace=True)\n",
        "print(db)"
      ],
      "metadata": {
        "id": "bViO1LLoI7sz",
        "colab": {
          "base_uri": "https://localhost:8080/"
        },
        "outputId": "131d5505-cf69-4297-9db6-959a9be9ec9e"
      },
      "execution_count": 64,
      "outputs": [
        {
          "output_type": "stream",
          "name": "stdout",
          "text": [
            "     sepal length  sepal width  petal length  petal width\n",
            "0             5.1          3.5           1.4          0.2\n",
            "1             4.9          3.0           1.4          0.2\n",
            "2             4.7          3.2           1.3          0.2\n",
            "3             4.6          3.1           1.5          0.2\n",
            "4             5.0          3.6           1.4          0.2\n",
            "..            ...          ...           ...          ...\n",
            "145           6.7          3.0           5.2          2.3\n",
            "146           6.3          2.5           5.0          1.9\n",
            "147           6.5          3.0           5.2          2.0\n",
            "148           6.2          3.4           5.4          2.3\n",
            "149           5.9          3.0           5.1          1.8\n",
            "\n",
            "[150 rows x 4 columns]\n"
          ]
        }
      ]
    },
    {
      "cell_type": "code",
      "source": [
        "print(db['sepal length'].corr(db['sepal width']))"
      ],
      "metadata": {
        "id": "zp_BYv5EJDjJ",
        "colab": {
          "base_uri": "https://localhost:8080/"
        },
        "outputId": "0fccd369-d9e7-4001-a91a-217aed006731"
      },
      "execution_count": 66,
      "outputs": [
        {
          "output_type": "stream",
          "name": "stdout",
          "text": [
            "-0.10936924995064937\n"
          ]
        }
      ]
    },
    {
      "cell_type": "code",
      "source": [
        "print(db['petal width'].mean())\n",
        "print(db['petal width'].median())\n",
        "print(db['petal width'].std())"
      ],
      "metadata": {
        "id": "0mjeoZCwJDoW",
        "colab": {
          "base_uri": "https://localhost:8080/"
        },
        "outputId": "191fd1c3-b24f-4f9d-a3eb-0f80ef8e2db1"
      },
      "execution_count": 68,
      "outputs": [
        {
          "output_type": "stream",
          "name": "stdout",
          "text": [
            "1.1986666666666668\n",
            "1.3\n",
            "0.7631607417008414\n"
          ]
        }
      ]
    },
    {
      "cell_type": "code",
      "source": [
        "db['volume']=np.pi*(db['sepal length']**2)*db['petal length']\n",
        "print(db)"
      ],
      "metadata": {
        "id": "bRiYEhWTJDrM",
        "colab": {
          "base_uri": "https://localhost:8080/"
        },
        "outputId": "7b006198-c810-4bfe-ae22-e47665ad9de6"
      },
      "execution_count": 70,
      "outputs": [
        {
          "output_type": "stream",
          "name": "stdout",
          "text": [
            "     sepal length  sepal width  petal length  petal width      volume\n",
            "0             5.1          3.5           1.4          0.2  114.397955\n",
            "1             4.9          3.0           1.4          0.2  105.601495\n",
            "2             4.7          3.2           1.3          0.2   90.217116\n",
            "3             4.6          3.1           1.5          0.2   99.714151\n",
            "4             5.0          3.6           1.4          0.2  109.955743\n",
            "..            ...          ...           ...          ...         ...\n",
            "145           6.7          3.0           5.2          2.3  733.335690\n",
            "146           6.3          2.5           5.0          1.9  623.449062\n",
            "147           6.5          3.0           5.2          2.0  690.207906\n",
            "148           6.2          3.4           5.4          2.3  652.119237\n",
            "149           5.9          3.0           5.1          1.8  557.730085\n",
            "\n",
            "[150 rows x 5 columns]\n"
          ]
        }
      ]
    },
    {
      "cell_type": "markdown",
      "source": [
        "# Section B *(2 Marks each)*"
      ],
      "metadata": {
        "id": "dGqrG93ELEQ3"
      }
    },
    {
      "cell_type": "markdown",
      "source": [
        "###NumPy"
      ],
      "metadata": {
        "id": "OLm8jv7tMH6h"
      }
    },
    {
      "cell_type": "markdown",
      "source": [
        "Q1 Let x = np.arange(4, dtype=np.int64). Create an array of ones with the same shape and type as X."
      ],
      "metadata": {
        "id": "zE1n0x7ZLRLU"
      }
    },
    {
      "cell_type": "code",
      "source": [
        "x = np.arange(4, dtype=np.int64)\n",
        "y=np.ones(x.shape,dtype=x.dtype)\n",
        "print(y)"
      ],
      "metadata": {
        "id": "H8o9C6b7LJzA",
        "colab": {
          "base_uri": "https://localhost:8080/"
        },
        "outputId": "9bf4ca95-f79b-41a0-afba-f363abed92e4"
      },
      "execution_count": 71,
      "outputs": [
        {
          "output_type": "stream",
          "name": "stdout",
          "text": [
            "[1 1 1 1]\n"
          ]
        }
      ]
    },
    {
      "cell_type": "markdown",
      "source": [
        "Q2 Let x be an array [1, 2, 3, ..., 9]. Split x into 3 arrays, each of which has 4, 2, and 3 elements in the original order."
      ],
      "metadata": {
        "id": "PPYeTqoHLSNj"
      }
    },
    {
      "cell_type": "code",
      "source": [
        "x=[1,2,3,4,5,6,7,8,9]\n",
        "print(np.split(x,[4,6]))"
      ],
      "metadata": {
        "id": "DS9mr30LLYdg",
        "colab": {
          "base_uri": "https://localhost:8080/"
        },
        "outputId": "5fb9efb6-5b00-43ab-b76f-4872b460003a"
      },
      "execution_count": 74,
      "outputs": [
        {
          "output_type": "stream",
          "name": "stdout",
          "text": [
            "[array([1, 2, 3, 4]), array([5, 6]), array([7, 8, 9])]\n"
          ]
        }
      ]
    },
    {
      "cell_type": "markdown",
      "source": [
        "Q3 Initiate x as a 2x5 array with random values from 0 to 10(not inclusive).Get the maximum and minimum values and their indices of x along the second axis."
      ],
      "metadata": {
        "id": "b1wJaooRLXjN"
      }
    },
    {
      "cell_type": "code",
      "source": [
        "x=np.random.rand(2,5)*10\n",
        "print(x)\n",
        "print(np.max(x,axis=1))\n",
        "print(np.argmax(x,axis=1))\n",
        "print(np.min(x,axis=1))\n",
        "print(np.argmin(x,axis=1))"
      ],
      "metadata": {
        "id": "GnXDqksjLf89",
        "colab": {
          "base_uri": "https://localhost:8080/"
        },
        "outputId": "8e565116-26e4-4fe4-814c-3968b0c4433a"
      },
      "execution_count": 79,
      "outputs": [
        {
          "output_type": "stream",
          "name": "stdout",
          "text": [
            "[[3.27948799 5.45464913 2.6483047  0.33275101 1.22065964]\n",
            " [6.56493361 3.2359947  6.82825092 9.19042703 0.6346853 ]]\n",
            "[5.45464913 9.19042703]\n",
            "[1 3]\n",
            "[0.33275101 0.6346853 ]\n",
            "[3 4]\n"
          ]
        }
      ]
    },
    {
      "cell_type": "markdown",
      "source": [
        "### Pandas"
      ],
      "metadata": {
        "id": "8_Q7fbyxMMHM"
      }
    },
    {
      "cell_type": "markdown",
      "source": [
        "Run the following load command and solve the following questions"
      ],
      "metadata": {
        "id": "3QpaFHkxJUho"
      }
    },
    {
      "cell_type": "code",
      "source": [
        "url = 'https://archive.ics.uci.edu/ml/machine-learning-databases/iris/iris.data'\n",
        "iris = np.genfromtxt(url, delimiter=',', dtype='object')\n",
        "names = ('sepallength', 'sepalwidth', 'petallength', 'petalwidth', 'species')"
      ],
      "metadata": {
        "id": "mLdcY49iJDtl"
      },
      "execution_count": 80,
      "outputs": []
    },
    {
      "cell_type": "markdown",
      "source": [
        "Q4 Write a Pandas function to find the count of unique species."
      ],
      "metadata": {
        "id": "zbDepnx9RtV8"
      }
    },
    {
      "cell_type": "code",
      "source": [
        "df=pd.DataFrame(data=iris,columns=names)\n",
        "print(df['species'].nunique())"
      ],
      "metadata": {
        "id": "oAkO0UnqJDv7",
        "colab": {
          "base_uri": "https://localhost:8080/"
        },
        "outputId": "700bd285-35ea-4869-c5bb-da1db82f629e"
      },
      "execution_count": 84,
      "outputs": [
        {
          "output_type": "stream",
          "name": "stdout",
          "text": [
            "3\n"
          ]
        }
      ]
    },
    {
      "cell_type": "markdown",
      "source": [
        "# Q5 Write a Pandas function to bin the petal length (3rd) column of iris_2d to form a text array, such that if petal length is:\n",
        "- Less than 3 –> ‘small’\n",
        "- 3-5 –> ‘medium’\n",
        "- greater than equal to 5 –> ‘large’"
      ],
      "metadata": {
        "id": "Usj5HlvyRxal"
      }
    },
    {
      "cell_type": "code",
      "source": [
        "df['petallength']=pd.to_numeric(df['petallength'])\n",
        "df['petallength']=pd.cut(df['petallength'], bins=[0,3,5,1000], labels=['small', 'medium', 'large'])\n",
        "print(df)"
      ],
      "metadata": {
        "id": "gTWWJoLMJDxx",
        "colab": {
          "base_uri": "https://localhost:8080/"
        },
        "outputId": "10799340-dc9e-4b5d-ea1b-4220087e9ad8"
      },
      "execution_count": 92,
      "outputs": [
        {
          "output_type": "stream",
          "name": "stdout",
          "text": [
            "    sepallength sepalwidth petallength petalwidth            species\n",
            "0        b'5.1'     b'3.5'       small     b'0.2'     b'Iris-setosa'\n",
            "1        b'4.9'     b'3.0'       small     b'0.2'     b'Iris-setosa'\n",
            "2        b'4.7'     b'3.2'       small     b'0.2'     b'Iris-setosa'\n",
            "3        b'4.6'     b'3.1'       small     b'0.2'     b'Iris-setosa'\n",
            "4        b'5.0'     b'3.6'       small     b'0.2'     b'Iris-setosa'\n",
            "..          ...        ...         ...        ...                ...\n",
            "145      b'6.7'     b'3.0'       large     b'2.3'  b'Iris-virginica'\n",
            "146      b'6.3'     b'2.5'      medium     b'1.9'  b'Iris-virginica'\n",
            "147      b'6.5'     b'3.0'       large     b'2.0'  b'Iris-virginica'\n",
            "148      b'6.2'     b'3.4'       large     b'2.3'  b'Iris-virginica'\n",
            "149      b'5.9'     b'3.0'       large     b'1.8'  b'Iris-virginica'\n",
            "\n",
            "[150 rows x 5 columns]\n"
          ]
        }
      ]
    },
    {
      "cell_type": "markdown",
      "source": [
        "Q6 Write a Pandas function to find the most frequent value of petal length (3rd column) in iris dataset"
      ],
      "metadata": {
        "id": "IbBYP_8sSBrB"
      }
    },
    {
      "cell_type": "code",
      "source": [
        "print(df['petallength'].mode())"
      ],
      "metadata": {
        "id": "DNk_tlVWJufR",
        "colab": {
          "base_uri": "https://localhost:8080/"
        },
        "outputId": "0844419c-6ad1-451a-8bc6-d172fab32c08"
      },
      "execution_count": 86,
      "outputs": [
        {
          "output_type": "stream",
          "name": "stdout",
          "text": [
            "0    b'1.5'\n",
            "Name: petallength, dtype: object\n"
          ]
        }
      ]
    }
  ]
}
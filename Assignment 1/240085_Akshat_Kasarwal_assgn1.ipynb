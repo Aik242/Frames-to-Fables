{
  "nbformat": 4,
  "nbformat_minor": 0,
  "metadata": {
    "colab": {
      "provenance": []
    },
    "kernelspec": {
      "name": "python3",
      "display_name": "Python 3"
    },
    "language_info": {
      "name": "python"
    }
  },
  "cells": [
    {
      "cell_type": "markdown",
      "source": [
        "Instructions for the assignment\n",
        "\n",
        "\n",
        "*   Fill the codeblocks according to the comments given\n",
        "*   Hints are given wherever required\n",
        "*   Please note that copying will not be tolerated, and appropriate action will be taken if we suspect any misconduct.\n",
        "*   You're welcome to utilize any online resources in case you feel stuck anywhere\n",
        "\n",
        "\n",
        "\n",
        "\n",
        "\n",
        "\n",
        "\n"
      ],
      "metadata": {
        "id": "kIAcUXNYVeGR"
      }
    },
    {
      "cell_type": "markdown",
      "source": [
        "# Section A *(2 Marks each)*"
      ],
      "metadata": {
        "id": "UhXvUdK6Stt_"
      }
    },
    {
      "cell_type": "markdown",
      "source": [
        "## NumPy (Numerical Python)\n",
        "\n",
        "### Multidimensional array object\n",
        "- Array is a grid of homogeneous elements which can be indexed in various ways\n",
        "- Different from Python list which can store different data types\n",
        "- NumPy stores multidimensional arrays as an instance of **ndarray**\n",
        "\n"
      ],
      "metadata": {
        "id": "oc77CrhjAGlR"
      }
    },
    {
      "cell_type": "code",
      "source": [
        "import numpy as np"
      ],
      "metadata": {
        "id": "WGtRigfyBpgb"
      },
      "execution_count": 67,
      "outputs": []
    },
    {
      "cell_type": "code",
      "execution_count": 68,
      "metadata": {
        "id": "UR9ftRnU8_lu",
        "colab": {
          "base_uri": "https://localhost:8080/"
        },
        "outputId": "275f7c49-c73a-4348-c5d9-1aff3215ecb5"
      },
      "outputs": [
        {
          "output_type": "stream",
          "name": "stdout",
          "text": [
            "[1 2 3 4 5]\n",
            "[[1 2 3]\n",
            " [4 5 6]\n",
            " [7 8 9]]\n"
          ]
        }
      ],
      "source": [
        "# Python list to initialize a one dimensional NumPy array of numbers 1 to 5 and then print it\n",
        "list1 = [1, 2, 3, 4 , 5]\n",
        "arr1 = np.array(list1)\n",
        "print(arr1)\n",
        "\n",
        "# Python list to initialize a two dimensional NumPy array of shape [3,3] and then print it\n",
        "list2 = [[1, 2, 3], [4, 5, 6], [7, 8, 9]]\n",
        "arr2 = np.array(list2)\n",
        "print(arr2)"
      ]
    },
    {
      "cell_type": "code",
      "source": [
        "# Write a NumPy function to create an array with random values of shape [3,4]\n",
        "arr1 = np.random.rand(3, 4)\n",
        "print(arr1)\n",
        "\n",
        "# Write a NumPy function to create an array with all elements initialized as zero of shape [3,4]\n",
        "arr2 = np.zeros((3, 4))\n",
        "print(arr2)\n",
        "\n",
        "# Write a NumPy function to create an array with all elements initialized as ones of shape [3,4]\n",
        "arr3 = np.ones((3, 4))\n",
        "print(arr3)"
      ],
      "metadata": {
        "id": "WZf-M7KnBkhu",
        "colab": {
          "base_uri": "https://localhost:8080/"
        },
        "outputId": "e3f3db7e-ea3a-41a2-c7c5-9bb85b562e58"
      },
      "execution_count": 69,
      "outputs": [
        {
          "output_type": "stream",
          "name": "stdout",
          "text": [
            "[[0.22934863 0.65179917 0.81098509 0.80958639]\n",
            " [0.58962117 0.54355967 0.3642971  0.09961775]\n",
            " [0.20796095 0.35260862 0.59522154 0.23674373]]\n",
            "[[0. 0. 0. 0.]\n",
            " [0. 0. 0. 0.]\n",
            " [0. 0. 0. 0.]]\n",
            "[[1. 1. 1. 1.]\n",
            " [1. 1. 1. 1.]\n",
            " [1. 1. 1. 1.]]\n"
          ]
        }
      ]
    },
    {
      "cell_type": "code",
      "source": [
        "# Write a NumPy function to create an array containing a range of evenly spaced intervals\n",
        "arr = np.arange(0, 10, 2)\n",
        "print(arr)\n",
        "# Hint : Use np.arange or np.linspace"
      ],
      "metadata": {
        "id": "Uagv5WtWBknb",
        "colab": {
          "base_uri": "https://localhost:8080/"
        },
        "outputId": "41e5aafb-5340-4335-8cd4-fb77a5a8bd5d"
      },
      "execution_count": 70,
      "outputs": [
        {
          "output_type": "stream",
          "name": "stdout",
          "text": [
            "[0 2 4 6 8]\n"
          ]
        }
      ]
    },
    {
      "cell_type": "markdown",
      "source": [
        "### Basic array operations\n",
        "- algebraic operations\n",
        "- logical operations"
      ],
      "metadata": {
        "id": "dFeKiGA5CNXx"
      }
    },
    {
      "cell_type": "code",
      "source": [
        "a = np.array([[-4,6,8], [9, 3, 1], [1, 8, 5]])\n",
        "b = np.array([[11,16,18], [90, 37, 81], [61, 48, 75]])"
      ],
      "metadata": {
        "id": "mZbgCNnRDVbV"
      },
      "execution_count": 71,
      "outputs": []
    },
    {
      "cell_type": "code",
      "source": [
        "# Write a NumPy function to add, subtract, multiply and divide arrays 'a' and 'b'\n",
        "print(np.add(a, b))\n",
        "print(np.subtract(a, b))\n",
        "print(np.multiply(a, b))\n",
        "print(np.divide(a, b))"
      ],
      "metadata": {
        "id": "QajfAkNHCMqe",
        "colab": {
          "base_uri": "https://localhost:8080/"
        },
        "outputId": "1fe945b7-1240-457b-e7ee-5874421cd9c5"
      },
      "execution_count": 72,
      "outputs": [
        {
          "output_type": "stream",
          "name": "stdout",
          "text": [
            "[[ 7 22 26]\n",
            " [99 40 82]\n",
            " [62 56 80]]\n",
            "[[-15 -10 -10]\n",
            " [-81 -34 -80]\n",
            " [-60 -40 -70]]\n",
            "[[-44  96 144]\n",
            " [810 111  81]\n",
            " [ 61 384 375]]\n",
            "[[-0.36363636  0.375       0.44444444]\n",
            " [ 0.1         0.08108108  0.01234568]\n",
            " [ 0.01639344  0.16666667  0.06666667]]\n"
          ]
        }
      ]
    },
    {
      "cell_type": "code",
      "source": [
        "# Write a NumPy function to get the sum of the array 'a' along axis=0\n",
        "print(np.sum(a, axis=0))\n",
        "# Write a NumPy function to get the sum of the array 'a' along axis=1\n",
        "print(np.sum(a, axis=1))"
      ],
      "metadata": {
        "id": "hfBR7r80C_qh",
        "colab": {
          "base_uri": "https://localhost:8080/"
        },
        "outputId": "b51a478a-aa58-4a3f-bb8c-df5e332f3491"
      },
      "execution_count": 73,
      "outputs": [
        {
          "output_type": "stream",
          "name": "stdout",
          "text": [
            "[ 6 17 14]\n",
            "[10 13 14]\n"
          ]
        }
      ]
    },
    {
      "cell_type": "code",
      "source": [
        "# Write a NumPy function to reverse the array 'a'\n",
        "print(np.flip(a))\n",
        "# Write a NumPy function to reverse the array 'a' along axis=0\n",
        "print(np.flip(a, axis=0))\n",
        "# Write a NumPy function to reverse the array 'a' along axis=1\n",
        "print(np.flip(a, axis=1))"
      ],
      "metadata": {
        "id": "rBTxfTuFDSiA",
        "colab": {
          "base_uri": "https://localhost:8080/"
        },
        "outputId": "31f850a1-bb87-42aa-a16b-5998587fc91f"
      },
      "execution_count": 74,
      "outputs": [
        {
          "output_type": "stream",
          "name": "stdout",
          "text": [
            "[[ 5  8  1]\n",
            " [ 1  3  9]\n",
            " [ 8  6 -4]]\n",
            "[[ 1  8  5]\n",
            " [ 9  3  1]\n",
            " [-4  6  8]]\n",
            "[[ 8  6 -4]\n",
            " [ 1  3  9]\n",
            " [ 5  8  1]]\n"
          ]
        }
      ]
    },
    {
      "cell_type": "markdown",
      "source": [
        "### Sorting and concatenation\n",
        "- sort arrays\n",
        "- join multiple arrays\n"
      ],
      "metadata": {
        "id": "WnCvXc3jCdWH"
      }
    },
    {
      "cell_type": "code",
      "source": [
        "a = np.array([[-4,6,8], [9, 3, 1], [1, 8, 5]])\n",
        "b = np.array([[11,16,18], [90, 37, 81], [61, 48, 75]])"
      ],
      "metadata": {
        "id": "Qsg-EPq7EbPx"
      },
      "execution_count": 75,
      "outputs": []
    },
    {
      "cell_type": "code",
      "source": [
        "# Write a NumPy function to sort the array 'a'\n",
        "print(np.sort(a))  # i noted that if we write just sort not along any axis then it sort along axis = 1 by default\n",
        "# Write a NumPy function to sort the array 'a' along axis=0\n",
        "print(np.sort(a, axis=0))\n",
        "# Write a NumPy function to sort the array 'a' along axis=1\n",
        "print(np.sort(a, axis=1))\n",
        "# Write a NumPy function to sort the array 'a' in descending order along axis=0\n",
        "print(np.sort(a, axis=0)[::-1])"
      ],
      "metadata": {
        "id": "_7VfP1anCc0O",
        "colab": {
          "base_uri": "https://localhost:8080/"
        },
        "outputId": "702acef7-227c-4e39-eaed-e35de43de47f"
      },
      "execution_count": 76,
      "outputs": [
        {
          "output_type": "stream",
          "name": "stdout",
          "text": [
            "[[-4  6  8]\n",
            " [ 1  3  9]\n",
            " [ 1  5  8]]\n",
            "[[-4  3  1]\n",
            " [ 1  6  5]\n",
            " [ 9  8  8]]\n",
            "[[-4  6  8]\n",
            " [ 1  3  9]\n",
            " [ 1  5  8]]\n",
            "[[ 9  8  8]\n",
            " [ 1  6  5]\n",
            " [-4  3  1]]\n"
          ]
        }
      ]
    },
    {
      "cell_type": "code",
      "source": [
        "# Write a NumPy function to argsort the array along axis=0\n",
        "print(np.argsort(a, axis=0))\n",
        "# Write a NumPy function to argsort the array along axis=1\n",
        "print(np.argsort(a, axis=1))"
      ],
      "metadata": {
        "id": "6BqbtdLYEWng",
        "colab": {
          "base_uri": "https://localhost:8080/"
        },
        "outputId": "a46aae0e-f017-49ab-f653-5164415225e7"
      },
      "execution_count": 77,
      "outputs": [
        {
          "output_type": "stream",
          "name": "stdout",
          "text": [
            "[[0 1 1]\n",
            " [2 0 2]\n",
            " [1 2 0]]\n",
            "[[0 1 2]\n",
            " [2 1 0]\n",
            " [0 2 1]]\n"
          ]
        }
      ]
    },
    {
      "cell_type": "code",
      "source": [
        "# Write a NumPy function to concatenate the arrays 'a' and 'b'\n",
        "print(np.concatenate((a, b)))\n",
        "# Write a NumPy function to concatenate the arrays 'a' and 'b' along axis = 0\n",
        "print(np.concatenate((a, b), axis=0))\n",
        "# Write a NumPy function to concatenate the arrays 'a' and 'b' along axis = 1\n",
        "print(np.concatenate((a, b), axis=1))                                           #here by default it choice axis = 0\n",
        "# Note: You can do the same function using stacking, discover and try that :)\n"
      ],
      "metadata": {
        "id": "cixOoXZhEY8-",
        "colab": {
          "base_uri": "https://localhost:8080/"
        },
        "outputId": "28f8c299-47e5-4067-813d-951668c8d804"
      },
      "execution_count": 78,
      "outputs": [
        {
          "output_type": "stream",
          "name": "stdout",
          "text": [
            "[[-4  6  8]\n",
            " [ 9  3  1]\n",
            " [ 1  8  5]\n",
            " [11 16 18]\n",
            " [90 37 81]\n",
            " [61 48 75]]\n",
            "[[-4  6  8]\n",
            " [ 9  3  1]\n",
            " [ 1  8  5]\n",
            " [11 16 18]\n",
            " [90 37 81]\n",
            " [61 48 75]]\n",
            "[[-4  6  8 11 16 18]\n",
            " [ 9  3  1 90 37 81]\n",
            " [ 1  8  5 61 48 75]]\n"
          ]
        }
      ]
    },
    {
      "cell_type": "markdown",
      "source": [
        "### Reshaping arrays\n",
        "- the number of dimensions of the array\n",
        "-  shape of n-dimensional array as a tuple with n elements s.t. $i^{th}$ element is the length of the $i^{th}$ dimension of the array\n",
        "- total number of elements of the array\n",
        "- reshapes the array\n",
        "- flattens multidimensional array into a 1D array\n",
        "- adds new dimensions to the array"
      ],
      "metadata": {
        "id": "aY0j33z2EjNx"
      }
    },
    {
      "cell_type": "code",
      "source": [
        "a = np.array([[4,6,8], [9, 3, 1], [1, 8, 5]])"
      ],
      "metadata": {
        "id": "sStUkoh1FG4N"
      },
      "execution_count": 79,
      "outputs": []
    },
    {
      "cell_type": "code",
      "source": [
        "# Write a NumPy function to get the Number of dimensions\n",
        "print(a.ndim)\n",
        "# Write a NumPy function to get the Shape of the array\n",
        "print(a.shape)\n",
        "# Write a NumPy function to get the Size of the array\n",
        "print(a.size)"
      ],
      "metadata": {
        "id": "vb35oi57Ev1f",
        "colab": {
          "base_uri": "https://localhost:8080/"
        },
        "outputId": "8a3160ac-8956-4291-c863-cc846d064629"
      },
      "execution_count": 80,
      "outputs": [
        {
          "output_type": "stream",
          "name": "stdout",
          "text": [
            "2\n",
            "(3, 3)\n",
            "9\n"
          ]
        }
      ]
    },
    {
      "cell_type": "code",
      "source": [
        "# Write a NumPy function to Reshape the array 'a' to the dimension (1,9)\n",
        "print(a.reshape(1, 9))"
      ],
      "metadata": {
        "id": "MznU0NWKE54c",
        "colab": {
          "base_uri": "https://localhost:8080/"
        },
        "outputId": "ce142139-ba92-4e30-d592-364c8dcfc0c0"
      },
      "execution_count": 81,
      "outputs": [
        {
          "output_type": "stream",
          "name": "stdout",
          "text": [
            "[[4 6 8 9 3 1 1 8 5]]\n"
          ]
        }
      ]
    },
    {
      "cell_type": "code",
      "source": [
        "# Write a NumPy function to add a new axis to the array 'a'\n",
        "# Note : Show atleast two different ways of doing this\n",
        "print(a[np.newaxis, :])\n",
        "print(a[:, np.newaxis])"
      ],
      "metadata": {
        "id": "p1dlxcNYE8tv",
        "colab": {
          "base_uri": "https://localhost:8080/"
        },
        "outputId": "14964521-07b8-4404-9fff-9107920107a0"
      },
      "execution_count": 82,
      "outputs": [
        {
          "output_type": "stream",
          "name": "stdout",
          "text": [
            "[[[4 6 8]\n",
            "  [9 3 1]\n",
            "  [1 8 5]]]\n",
            "[[[4 6 8]]\n",
            "\n",
            " [[9 3 1]]\n",
            "\n",
            " [[1 8 5]]]\n"
          ]
        }
      ]
    },
    {
      "cell_type": "markdown",
      "source": [
        "### Indexing and slicing\n",
        "- NumPy allows indexing array using tuple of nonnegative integers, booleans, array or integers"
      ],
      "metadata": {
        "id": "Ng4xWkwpFtao"
      }
    },
    {
      "cell_type": "code",
      "source": [
        "a = np.array([[4,6,0], [0, 3, 1], [1, 8, 5]])"
      ],
      "metadata": {
        "id": "swrtOhPGGB7r"
      },
      "execution_count": 83,
      "outputs": []
    },
    {
      "cell_type": "code",
      "source": [
        "# Write a NumPy function to index and slice NumPy arrays similar to Python lists\n",
        "# Show all three - indexing by a integer, indexing by a tuple, using range\n",
        "\n",
        "a.reshape(1,a.size)\n",
        "a1 = a.ravel()    #My logic is to convert it into 1 dimensional vector then by loop i will index and slice\n",
        "for i in range(len(a1)):\n",
        "  print(f\"at {i} value is {a1[i]}\")\n",
        "\n",
        "print(a[:, 1:3])\n",
        "#indexing by a integer\n",
        "print(a[0, 0])\n",
        "\n",
        "#indexing by a tuple\n",
        "print(a[(0, 1)])"
      ],
      "metadata": {
        "id": "w3QaVYRyFs77",
        "colab": {
          "base_uri": "https://localhost:8080/"
        },
        "outputId": "63b5dc52-f3be-404b-a3a0-74fd0bb409d4"
      },
      "execution_count": 84,
      "outputs": [
        {
          "output_type": "stream",
          "name": "stdout",
          "text": [
            "at 0 value is 4\n",
            "at 1 value is 6\n",
            "at 2 value is 0\n",
            "at 3 value is 0\n",
            "at 4 value is 3\n",
            "at 5 value is 1\n",
            "at 6 value is 1\n",
            "at 7 value is 8\n",
            "at 8 value is 5\n",
            "[[6 0]\n",
            " [3 1]\n",
            " [8 5]]\n",
            "4\n",
            "6\n"
          ]
        }
      ]
    },
    {
      "cell_type": "code",
      "source": [
        "# Write a NumPy function to select values satisfying a specific condition like Values greater than 4\n",
        "\n",
        "def greater_4(a):\n",
        "    return a[a > 4]\n",
        "\n",
        "# Write a NumPy function to select values satisfying mulitple conditions like Values greater than 4 and divisible by 2\n",
        "def greater_divisible_4(a):\n",
        "  return a[(a > 4) & (a % 2 == 0)]"
      ],
      "metadata": {
        "id": "Xn2_z5h-Fmrd"
      },
      "execution_count": 85,
      "outputs": []
    },
    {
      "cell_type": "markdown",
      "source": [
        "### Copying arrays\n",
        "- new array object with a copy of the data\n",
        "- Changes made in the copy array is not reflected in the original array"
      ],
      "metadata": {
        "id": "GWU0EfaAG2ll"
      }
    },
    {
      "cell_type": "code",
      "source": [
        "a = np.array([[4,6,0], [0, 3, 1], [1, 8, 5]])"
      ],
      "metadata": {
        "id": "ijdgy02lHMJW"
      },
      "execution_count": 86,
      "outputs": []
    },
    {
      "cell_type": "code",
      "source": [
        "# Write a NumPy function to copy the array 'a' and finally print an array where all elements are increased by 1\n",
        "a_copy = a.copy()\n",
        "print(a_copy + 1)"
      ],
      "metadata": {
        "id": "FmgUdh66GuQH",
        "colab": {
          "base_uri": "https://localhost:8080/"
        },
        "outputId": "02038c90-08dd-4c67-e78d-a6458bbdcdb3"
      },
      "execution_count": 87,
      "outputs": [
        {
          "output_type": "stream",
          "name": "stdout",
          "text": [
            "[[5 7 1]\n",
            " [1 4 2]\n",
            " [2 9 6]]\n"
          ]
        }
      ]
    },
    {
      "cell_type": "markdown",
      "source": [
        "## Pandas ( Python Data Analysis Library)\n",
        "\n",
        "### Main Features\n",
        "- Easy handling of missing data in both floating point and non-floating point data.\n",
        "- Automatic and explicit data alignment, making it easy to perform computations and transformations on data sets.\n",
        "\n"
      ],
      "metadata": {
        "id": "M1KLD5QxHsVw"
      }
    },
    {
      "cell_type": "markdown",
      "source": [
        "#### Generating the dataset"
      ],
      "metadata": {
        "id": "v1CuU3FeIq1a"
      }
    },
    {
      "cell_type": "markdown",
      "source": [
        "Run the following load command to get the 2-Dim iris dataset. Do the following operations on it and please dont edit this cell"
      ],
      "metadata": {
        "id": "fp36ZqOMIy7k"
      }
    },
    {
      "cell_type": "code",
      "source": [
        "url = 'https://archive.ics.uci.edu/ml/machine-learning-databases/iris/iris.data'\n",
        "iris_2d = np.genfromtxt(url, delimiter=',', dtype='float', usecols=[0,1,2,3])"
      ],
      "metadata": {
        "id": "A_O5RTBXIyK-"
      },
      "execution_count": 88,
      "outputs": []
    },
    {
      "cell_type": "markdown",
      "source": [
        "#### Basic Data Analysis"
      ],
      "metadata": {
        "id": "EILb6pPrS8Ju"
      }
    },
    {
      "cell_type": "code",
      "source": [
        "# Write a Pandas function to drop rows that contain a missing value.\n",
        "import pandas as pd\n",
        "df = pd.DataFrame(iris_2d)\n",
        "df_new = df.dropna()\n",
        "print(df_new)"
      ],
      "metadata": {
        "id": "bViO1LLoI7sz",
        "colab": {
          "base_uri": "https://localhost:8080/"
        },
        "outputId": "7f57a8ed-0094-4318-89d6-0c922d4c294d"
      },
      "execution_count": 89,
      "outputs": [
        {
          "output_type": "stream",
          "name": "stdout",
          "text": [
            "       0    1    2    3\n",
            "0    5.1  3.5  1.4  0.2\n",
            "1    4.9  3.0  1.4  0.2\n",
            "2    4.7  3.2  1.3  0.2\n",
            "3    4.6  3.1  1.5  0.2\n",
            "4    5.0  3.6  1.4  0.2\n",
            "..   ...  ...  ...  ...\n",
            "145  6.7  3.0  5.2  2.3\n",
            "146  6.3  2.5  5.0  1.9\n",
            "147  6.5  3.0  5.2  2.0\n",
            "148  6.2  3.4  5.4  2.3\n",
            "149  5.9  3.0  5.1  1.8\n",
            "\n",
            "[150 rows x 4 columns]\n"
          ]
        }
      ]
    },
    {
      "cell_type": "code",
      "source": [
        "# Write a Pandas function to find the correlation between the first two columns.\n"
      ],
      "metadata": {
        "id": "zp_BYv5EJDjJ"
      },
      "execution_count": 90,
      "outputs": []
    },
    {
      "cell_type": "code",
      "source": [
        "# Write a Pandas function to find the mean, median and standard deviation of column 3.\n",
        "print(df[2].mean())\n",
        "print(df[2].median())\n",
        "print(df[2].std())"
      ],
      "metadata": {
        "id": "0mjeoZCwJDoW",
        "colab": {
          "base_uri": "https://localhost:8080/"
        },
        "outputId": "e9980071-3d35-4fbd-9630-b9012b7f7cc4"
      },
      "execution_count": 91,
      "outputs": [
        {
          "output_type": "stream",
          "name": "stdout",
          "text": [
            "3.758666666666666\n",
            "4.35\n",
            "1.7644204199522617\n"
          ]
        }
      ]
    },
    {
      "cell_type": "code",
      "source": [
        "# Write a Pandas function to create a new column for volume in iris_2d, where volume is (pi x petallength x sepal_length^2)/3\n",
        "# Hints:\n",
        "# 1. Introduce new dimension to match iris_2d's\n",
        "# 2. Add the new column\n"
      ],
      "metadata": {
        "id": "bRiYEhWTJDrM"
      },
      "execution_count": 92,
      "outputs": []
    },
    {
      "cell_type": "markdown",
      "source": [
        "# Section B *(2 Marks each)*"
      ],
      "metadata": {
        "id": "dGqrG93ELEQ3"
      }
    },
    {
      "cell_type": "markdown",
      "source": [
        "###NumPy"
      ],
      "metadata": {
        "id": "OLm8jv7tMH6h"
      }
    },
    {
      "cell_type": "markdown",
      "source": [
        "Q1 Let x = np.arange(4, dtype=np.int64). Create an array of ones with the same shape and type as X."
      ],
      "metadata": {
        "id": "zE1n0x7ZLRLU"
      }
    },
    {
      "cell_type": "code",
      "source": [
        "x = np.arange(4, dtype=np.int64)\n",
        "array = np.zeros_like(x)\n",
        "print(array)"
      ],
      "metadata": {
        "id": "H8o9C6b7LJzA",
        "colab": {
          "base_uri": "https://localhost:8080/"
        },
        "outputId": "22f4a121-0394-4736-8d82-ac18a6c38a82"
      },
      "execution_count": 93,
      "outputs": [
        {
          "output_type": "stream",
          "name": "stdout",
          "text": [
            "[0 0 0 0]\n"
          ]
        }
      ]
    },
    {
      "cell_type": "markdown",
      "source": [
        "Q2 Let x be an array [1, 2, 3, ..., 9]. Split x into 3 arrays, each of which has 4, 2, and 3 elements in the original order."
      ],
      "metadata": {
        "id": "PPYeTqoHLSNj"
      }
    },
    {
      "cell_type": "code",
      "source": [
        "x = np.arange(1,10)\n",
        "print(x)\n",
        "x1 = np.split(x,[4,6])\n",
        "print(x1)"
      ],
      "metadata": {
        "id": "DS9mr30LLYdg",
        "colab": {
          "base_uri": "https://localhost:8080/"
        },
        "outputId": "41f2be17-1717-422f-c8cc-259991263aeb"
      },
      "execution_count": 94,
      "outputs": [
        {
          "output_type": "stream",
          "name": "stdout",
          "text": [
            "[1 2 3 4 5 6 7 8 9]\n",
            "[array([1, 2, 3, 4]), array([5, 6]), array([7, 8, 9])]\n"
          ]
        }
      ]
    },
    {
      "cell_type": "markdown",
      "source": [
        "Q3 Initiate x as a 2x5 array with random values from 0 to 10(not inclusive).Get the maximum and minimum values and their indices of x along the second axis."
      ],
      "metadata": {
        "id": "b1wJaooRLXjN"
      }
    },
    {
      "cell_type": "code",
      "source": [
        "x = np.random.randint(0, 10, size=(2, 5))\n",
        "print(x)\n",
        "\n",
        "print(np.max(x, axis=1))\n",
        "print(np.min(x, axis=1))\n",
        "print(np.argmax(x, axis=1))\n",
        "print(np.argmin(x, axis=1))"
      ],
      "metadata": {
        "id": "GnXDqksjLf89",
        "colab": {
          "base_uri": "https://localhost:8080/"
        },
        "outputId": "076ec8fd-f982-4203-d158-6cc9d69cd337"
      },
      "execution_count": 95,
      "outputs": [
        {
          "output_type": "stream",
          "name": "stdout",
          "text": [
            "[[8 8 3 8 6]\n",
            " [7 0 5 4 6]]\n",
            "[8 7]\n",
            "[3 0]\n",
            "[0 0]\n",
            "[2 1]\n"
          ]
        }
      ]
    },
    {
      "cell_type": "markdown",
      "source": [
        "### Pandas"
      ],
      "metadata": {
        "id": "8_Q7fbyxMMHM"
      }
    },
    {
      "cell_type": "markdown",
      "source": [
        "Run the following load command and solve the following questions"
      ],
      "metadata": {
        "id": "3QpaFHkxJUho"
      }
    },
    {
      "cell_type": "code",
      "source": [
        "url = 'https://archive.ics.uci.edu/ml/machine-learning-databases/iris/iris.data'\n",
        "iris = np.genfromtxt(url, delimiter=',', dtype='object')\n",
        "names = ('sepallength', 'sepalwidth', 'petallength', 'petalwidth', 'species')"
      ],
      "metadata": {
        "id": "mLdcY49iJDtl"
      },
      "execution_count": 96,
      "outputs": []
    },
    {
      "cell_type": "markdown",
      "source": [
        "Q4 Write a Pandas function to find the count of unique species."
      ],
      "metadata": {
        "id": "zbDepnx9RtV8"
      }
    },
    {
      "cell_type": "code",
      "source": [
        "import pandas as pd\n",
        "df1 = pd.DataFrame(iris)\n",
        "df1.columns = names\n",
        "print(df1['species'].value_counts())"
      ],
      "metadata": {
        "id": "oAkO0UnqJDv7",
        "colab": {
          "base_uri": "https://localhost:8080/"
        },
        "outputId": "d311ea0e-0dc6-4517-a80c-62e301743de8"
      },
      "execution_count": 97,
      "outputs": [
        {
          "output_type": "stream",
          "name": "stdout",
          "text": [
            "species\n",
            "b'Iris-setosa'        50\n",
            "b'Iris-versicolor'    50\n",
            "b'Iris-virginica'     50\n",
            "Name: count, dtype: int64\n"
          ]
        }
      ]
    },
    {
      "cell_type": "markdown",
      "source": [
        "# Q5 Write a Pandas function to bin the petal length (3rd) column of iris_2d to form a text array, such that if petal length is:\n",
        "- Less than 3 –> ‘small’\n",
        "- 3-5 –> ‘medium’\n",
        "- greater than equal to 5 –> ‘large’"
      ],
      "metadata": {
        "id": "Usj5HlvyRxal"
      }
    },
    {
      "cell_type": "code",
      "source": [
        "def bin_petal_length(df):\n",
        "    col_name = df.columns[2]\n",
        "\n",
        "    bins = [0, 3, 5, np.inf]\n",
        "    labels = ['small', 'medium', 'large']\n",
        "\n",
        "    # new binned column\n",
        "    df['petal_length_category'] = pd.cut(df[col_name], bins=bins, labels=labels, right=False)\n",
        "\n",
        "    return df\n"
      ],
      "metadata": {
        "id": "gTWWJoLMJDxx"
      },
      "execution_count": 98,
      "outputs": []
    },
    {
      "cell_type": "markdown",
      "source": [
        "Q6 Write a Pandas function to find the most frequent value of petal length (3rd column) in iris dataset"
      ],
      "metadata": {
        "id": "IbBYP_8sSBrB"
      }
    },
    {
      "cell_type": "code",
      "source": [
        "def most_frequent_petal_length(df):\n",
        "    col_name = df.columns[2]\n",
        "    return df[col_name].mode().iloc[0]"
      ],
      "metadata": {
        "id": "DNk_tlVWJufR"
      },
      "execution_count": 99,
      "outputs": []
    }
  ]
}
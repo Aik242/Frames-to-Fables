{
  "nbformat": 4,
  "nbformat_minor": 0,
  "metadata": {
    "colab": {
      "provenance": []
    },
    "kernelspec": {
      "name": "python3",
      "display_name": "Python 3"
    },
    "language_info": {
      "name": "python"
    }
  },
  "cells": [
    {
      "cell_type": "markdown",
      "source": [
        "Instructions for the assignment\n",
        "\n",
        "\n",
        "*   Fill the codeblocks according to the comments given\n",
        "*   Hints are given wherever required\n",
        "*   Please note that copying will not be tolerated, and appropriate action will be taken if we suspect any misconduct.\n",
        "*   You're welcome to utilize any online resources in case you feel stuck anywhere\n",
        "\n",
        "\n",
        "\n",
        "\n",
        "\n",
        "\n",
        "\n"
      ],
      "metadata": {
        "id": "kIAcUXNYVeGR"
      }
    },
    {
      "cell_type": "markdown",
      "source": [
        "# Section A *(2 Marks each)*"
      ],
      "metadata": {
        "id": "UhXvUdK6Stt_"
      }
    },
    {
      "cell_type": "markdown",
      "source": [
        "## NumPy (Numerical Python)\n",
        "\n",
        "### Multidimensional array object\n",
        "- Array is a grid of homogeneous elements which can be indexed in various ways\n",
        "- Different from Python list which can store different data types\n",
        "- NumPy stores multidimensional arrays as an instance of **ndarray**\n",
        "\n"
      ],
      "metadata": {
        "id": "oc77CrhjAGlR"
      }
    },
    {
      "cell_type": "code",
      "source": [
        "import numpy as np"
      ],
      "metadata": {
        "id": "WGtRigfyBpgb"
      },
      "execution_count": 342,
      "outputs": []
    },
    {
      "cell_type": "code",
      "execution_count": 343,
      "metadata": {
        "id": "UR9ftRnU8_lu"
      },
      "outputs": [],
      "source": [
        "# Python list to initialize a one dimensional NumPy array of numbers 1 to 5 and then print it\n",
        "arr1 = np.array([1, 2, 3, 4, 5])\n",
        "# Python list to initialize a two dimensional NumPy array of shape [3,3] and then print it\n",
        "arr2 = np.array([[1, 2, 3], [4, 5, 6], [7, 8, 9]])"
      ]
    },
    {
      "cell_type": "code",
      "source": [
        "# Write a NumPy function to create an array with random values of shape [3,4]\n",
        "arr1 = np.random.random((3,4))\n",
        "# Write a NumPy function to create an array with all elements initialized as zero of shape [3,4]\n",
        "arr2 = np.zeros((3, 4))\n",
        "# Write a NumPy function to create an array with all elements initialized as ones of shape [3,4]\n",
        "arr3 = np.ones((3, 4))"
      ],
      "metadata": {
        "id": "WZf-M7KnBkhu"
      },
      "execution_count": 344,
      "outputs": []
    },
    {
      "cell_type": "code",
      "source": [
        "# Write a NumPy function to create an array containing a range of evenly spaced intervals\n",
        "arr = np.arange(0,10,2)\n",
        "# Hint : Use np.arange or np.linspace"
      ],
      "metadata": {
        "id": "Uagv5WtWBknb"
      },
      "execution_count": 345,
      "outputs": []
    },
    {
      "cell_type": "markdown",
      "source": [
        "### Basic array operations\n",
        "- algebraic operations\n",
        "- logical operations"
      ],
      "metadata": {
        "id": "dFeKiGA5CNXx"
      }
    },
    {
      "cell_type": "code",
      "source": [
        "a = np.array([[-4,6,8], [9, 3, 1], [1, 8, 5]])\n",
        "b = np.array([[11,16,18], [90, 37, 81], [61, 48, 75]])"
      ],
      "metadata": {
        "id": "mZbgCNnRDVbV"
      },
      "execution_count": 346,
      "outputs": []
    },
    {
      "cell_type": "code",
      "source": [
        "# Write a NumPy function to add, subtract, multiply and divide arrays 'a' and 'b'\n",
        "add = np.add(a, b)\n",
        "subtract = np.subtract(a, b)\n",
        "multiply = np.multiply(a, b)\n",
        "divide = np.divide(a, b)\n"
      ],
      "metadata": {
        "id": "QajfAkNHCMqe"
      },
      "execution_count": 347,
      "outputs": []
    },
    {
      "cell_type": "code",
      "source": [
        "# Write a NumPy function to get the sum of the array 'a' along axis=0\n",
        "sum0 = np.sum(a, axis=0)\n",
        "# Write a NumPy function to get the sum of the array 'a' along axis=1\n",
        "sum1 = np.sum(a, axis=1)"
      ],
      "metadata": {
        "id": "hfBR7r80C_qh"
      },
      "execution_count": 348,
      "outputs": []
    },
    {
      "cell_type": "code",
      "source": [
        "# Write a NumPy function to reverse the array 'a'\n",
        "reverse = a[::-1]\n",
        "# Write a NumPy function to reverse the array 'a' along axis=0\n",
        "reverse0 = a[::-1, :]\n",
        "# Write a NumPy function to reverse the array 'a' along axis=1\n",
        "reverse1 = a[:, ::-1]"
      ],
      "metadata": {
        "id": "rBTxfTuFDSiA"
      },
      "execution_count": 349,
      "outputs": []
    },
    {
      "cell_type": "markdown",
      "source": [
        "### Sorting and concatenation\n",
        "- sort arrays\n",
        "- join multiple arrays\n"
      ],
      "metadata": {
        "id": "WnCvXc3jCdWH"
      }
    },
    {
      "cell_type": "code",
      "source": [
        "a = np.array([[-4,6,8], [9, 3, 1], [1, 8, 5]])\n",
        "b = np.array([[11,16,18], [90, 37, 81], [61, 48, 75]])"
      ],
      "metadata": {
        "id": "Qsg-EPq7EbPx"
      },
      "execution_count": 350,
      "outputs": []
    },
    {
      "cell_type": "code",
      "source": [
        "# Write a NumPy function to sort the array 'a'\n",
        "sort = np.sort(a)\n",
        "# Write a NumPy function to sort the array 'a' along axis=0\n",
        "sort0 = np.sort(a, axis=0)\n",
        "# Write a NumPy function to sort the array 'a' along axis=1\n",
        "sort1 = np.sort(a, axis = 1)\n",
        "# Write a NumPy function to sort the array 'a' in descending order along axis=0\n",
        "sortd0 = np.sort(a, axis=0)[::-1]"
      ],
      "metadata": {
        "id": "_7VfP1anCc0O"
      },
      "execution_count": 351,
      "outputs": []
    },
    {
      "cell_type": "code",
      "source": [
        "# Write a NumPy function to argsort the array along axis=0\n",
        "index0 = np.argsort(a, axis=0)\n",
        "# Write a NumPy function to argsort the array along axis=1\n",
        "index1 = np.argsort(a, axis=1)"
      ],
      "metadata": {
        "id": "6BqbtdLYEWng"
      },
      "execution_count": 352,
      "outputs": []
    },
    {
      "cell_type": "code",
      "source": [
        "# Write a NumPy function to concatenate the arrays 'a' and 'b'\n",
        "ab = np.concatenate((a,b))\n",
        "# Write a NumPy function to concatenate the arrays 'a' and 'b' along axis = 0\n",
        "ab0 = np.concatenate((a,b), axis=0)\n",
        "# Note: You can do the same function using stacking, discover and try that :)\n"
      ],
      "metadata": {
        "id": "cixOoXZhEY8-"
      },
      "execution_count": 353,
      "outputs": []
    },
    {
      "cell_type": "markdown",
      "source": [
        "### Reshaping arrays\n",
        "- the number of dimensions of the array\n",
        "-  shape of n-dimensional array as a tuple with n elements s.t. $i^{th}$ element is the length of the $i^{th}$ dimension of the array\n",
        "- total number of elements of the array\n",
        "- reshapes the array\n",
        "- flattens multidimensional array into a 1D array\n",
        "- adds new dimensions to the array"
      ],
      "metadata": {
        "id": "aY0j33z2EjNx"
      }
    },
    {
      "cell_type": "code",
      "source": [
        "a = np.array([[4,6,8], [9, 3, 1], [1, 8, 5]])"
      ],
      "metadata": {
        "id": "sStUkoh1FG4N"
      },
      "execution_count": 354,
      "outputs": []
    },
    {
      "cell_type": "code",
      "source": [
        "# Write a NumPy function to get the Number of dimensions\n",
        "dim = arr.ndim\n",
        "# Write a NumPy function to get the Shape of the array\n",
        "shape = arr.shape\n",
        "# Write a NumPy function to get the Size of the array\n",
        "size = arr.size"
      ],
      "metadata": {
        "id": "vb35oi57Ev1f"
      },
      "execution_count": 355,
      "outputs": []
    },
    {
      "cell_type": "code",
      "source": [
        "# Write a NumPy function to Reshape the array 'a' to the dimension (1,9)\n",
        "reshape = a.reshape(1,9)"
      ],
      "metadata": {
        "id": "MznU0NWKE54c"
      },
      "execution_count": 356,
      "outputs": []
    },
    {
      "cell_type": "code",
      "source": [
        "# Write a NumPy function to add a new axis to the array 'a'\n",
        "newaxis1 = a[np.newaxis, :]\n",
        "\n",
        "newaxis2 = np.expand_dims(a, axis=1)\n",
        "# Note : Show atleast two different ways of doing this"
      ],
      "metadata": {
        "id": "p1dlxcNYE8tv"
      },
      "execution_count": 357,
      "outputs": []
    },
    {
      "cell_type": "markdown",
      "source": [
        "### Indexing and slicing\n",
        "- NumPy allows indexing array using tuple of nonnegative integers, booleans, array or integers"
      ],
      "metadata": {
        "id": "Ng4xWkwpFtao"
      }
    },
    {
      "cell_type": "code",
      "source": [
        "a = np.array([[4,6,0], [0, 3, 1], [1, 8, 5]])"
      ],
      "metadata": {
        "id": "swrtOhPGGB7r"
      },
      "execution_count": 358,
      "outputs": []
    },
    {
      "cell_type": "code",
      "source": [
        "# Write a NumPy function to index and slice NumPy arrays similar to Python lists\n",
        "n = a[1]\n",
        "n1 = a[1, 2]\n",
        "n2 = a[0:2]\n",
        "# Show all three - indexing by a integer, indexing by a tuple, using range\n"
      ],
      "metadata": {
        "id": "w3QaVYRyFs77"
      },
      "execution_count": 359,
      "outputs": []
    },
    {
      "cell_type": "code",
      "source": [
        "# Write a NumPy function to select values satisfying a specific condition like Values greater than 4\n",
        "idx = np.where(a>4)\n",
        "arr = a[idx]\n",
        "# Write a NumPy function to select values satisfying mulitple conditions like Values greater than 4 and divisible by 2\n",
        "idx = np.where((a>4) & (a%2==0))\n",
        "arr = a[idx]"
      ],
      "metadata": {
        "id": "Xn2_z5h-Fmrd"
      },
      "execution_count": 360,
      "outputs": []
    },
    {
      "cell_type": "markdown",
      "source": [
        "### Copying arrays\n",
        "- new array object with a copy of the data\n",
        "- Changes made in the copy array is not reflected in the original array"
      ],
      "metadata": {
        "id": "GWU0EfaAG2ll"
      }
    },
    {
      "cell_type": "code",
      "source": [
        "a = np.array([[4,6,0], [0, 3, 1], [1, 8, 5]])"
      ],
      "metadata": {
        "id": "ijdgy02lHMJW"
      },
      "execution_count": 361,
      "outputs": []
    },
    {
      "cell_type": "code",
      "source": [
        "# Write a NumPy function to copy the array 'a' and finally print an array where all elements are increased by 1\n",
        "arr = a.copy()\n",
        "arr += 1\n",
        "print(arr)"
      ],
      "metadata": {
        "id": "H9TxMYPrL5Y3",
        "outputId": "4debf9af-446b-4f7e-ef69-12429466555f",
        "colab": {
          "base_uri": "https://localhost:8080/"
        }
      },
      "execution_count": 362,
      "outputs": [
        {
          "output_type": "stream",
          "name": "stdout",
          "text": [
            "[[5 7 1]\n",
            " [1 4 2]\n",
            " [2 9 6]]\n"
          ]
        }
      ]
    },
    {
      "cell_type": "markdown",
      "source": [
        "## Pandas ( Python Data Analysis Library)\n",
        "\n",
        "### Main Features\n",
        "- Easy handling of missing data in both floating point and non-floating point data.\n",
        "- Automatic and explicit data alignment, making it easy to perform computations and transformations on data sets.\n",
        "\n"
      ],
      "metadata": {
        "id": "M1KLD5QxHsVw"
      }
    },
    {
      "cell_type": "markdown",
      "source": [
        "#### Generating the dataset"
      ],
      "metadata": {
        "id": "v1CuU3FeIq1a"
      }
    },
    {
      "cell_type": "markdown",
      "source": [
        "Run the following load command to get the 2-Dim iris dataset. Do the following operations on it and please dont edit this cell"
      ],
      "metadata": {
        "id": "fp36ZqOMIy7k"
      }
    },
    {
      "cell_type": "code",
      "source": [
        "import pandas as pd"
      ],
      "metadata": {
        "id": "wYXR7ayDNBuQ"
      },
      "execution_count": 363,
      "outputs": []
    },
    {
      "cell_type": "code",
      "source": [
        "url = 'https://archive.ics.uci.edu/ml/machine-learning-databases/iris/iris.data'\n",
        "iris_2d = np.genfromtxt(url, delimiter=',', dtype='float', usecols=[0,1,2,3])"
      ],
      "metadata": {
        "id": "A_O5RTBXIyK-"
      },
      "execution_count": 364,
      "outputs": []
    },
    {
      "cell_type": "markdown",
      "source": [
        "#### Basic Data Analysis"
      ],
      "metadata": {
        "id": "EILb6pPrS8Ju"
      }
    },
    {
      "cell_type": "code",
      "source": [
        "# Write a Pandas function to drop rows that contain a missing value.\n",
        "iris_2d = pd.DataFrame(iris_2d)\n",
        "iris_2d = iris_2d.dropna()"
      ],
      "metadata": {
        "id": "bViO1LLoI7sz"
      },
      "execution_count": 365,
      "outputs": []
    },
    {
      "cell_type": "code",
      "source": [
        "# Write a Pandas function to find the correlation between the first two columns.\n",
        "corr = iris_2d[0].corr(iris_2d[1])"
      ],
      "metadata": {
        "id": "zp_BYv5EJDjJ"
      },
      "execution_count": 366,
      "outputs": []
    },
    {
      "cell_type": "code",
      "source": [
        "# Write a Pandas function to find the mean, median and standard deviation of column 3.\n",
        "mean = iris_2d[2].mean()\n",
        "median = iris_2d[2].median()\n",
        "std = iris_2d[2].std()"
      ],
      "metadata": {
        "id": "0mjeoZCwJDoW"
      },
      "execution_count": 367,
      "outputs": []
    },
    {
      "cell_type": "code",
      "source": [
        "# Write a Pandas function to create a new column for volume in iris_2d, where volume is (pi x petallength x sepal_length^2)/3\n",
        "# Hints:\n",
        "# 1. Introduce new dimension to match iris_2d's\n",
        "# 2. Add the new column\n",
        "\n",
        "volume = (np.pi * iris_2d[2] * iris_2d[0]**2) / 3\n",
        "iris_2d['volume'] = volume"
      ],
      "metadata": {
        "id": "bRiYEhWTJDrM"
      },
      "execution_count": 368,
      "outputs": []
    },
    {
      "cell_type": "markdown",
      "source": [
        "# Section B *(2 Marks each)*"
      ],
      "metadata": {
        "id": "dGqrG93ELEQ3"
      }
    },
    {
      "cell_type": "markdown",
      "source": [
        "###NumPy"
      ],
      "metadata": {
        "id": "OLm8jv7tMH6h"
      }
    },
    {
      "cell_type": "markdown",
      "source": [
        "Q1 Let x = np.arange(4, dtype=np.int64). Create an array of ones with the same shape and type as X."
      ],
      "metadata": {
        "id": "zE1n0x7ZLRLU"
      }
    },
    {
      "cell_type": "code",
      "source": [
        "x = np.arange(4, dtype=np.int64)\n",
        "ones = np.ones_like(x)"
      ],
      "metadata": {
        "id": "H8o9C6b7LJzA"
      },
      "execution_count": 369,
      "outputs": []
    },
    {
      "cell_type": "markdown",
      "source": [
        "Q2 Let x be an array [1, 2, 3, ..., 9]. Split x into 3 arrays, each of which has 4, 2, and 3 elements in the original order."
      ],
      "metadata": {
        "id": "PPYeTqoHLSNj"
      }
    },
    {
      "cell_type": "code",
      "source": [
        "x = np.arange(1,10)\n",
        "a, b, c = np.split(x, [4, 6])"
      ],
      "metadata": {
        "id": "DS9mr30LLYdg"
      },
      "execution_count": 370,
      "outputs": []
    },
    {
      "cell_type": "markdown",
      "source": [
        "Q3 Initiate x as a 2x5 array with random values from 0 to 10(not inclusive).Get the maximum and minimum values and their indices of x along the second axis."
      ],
      "metadata": {
        "id": "b1wJaooRLXjN"
      }
    },
    {
      "cell_type": "code",
      "source": [
        "x = np.random.randint(0,10, size= (2,5))\n",
        "max_value = np.max(x)\n",
        "max_index = np.argmax(x)\n",
        "min_value = np.min(x)\n",
        "min_index = np.argmin(x)"
      ],
      "metadata": {
        "id": "GnXDqksjLf89"
      },
      "execution_count": 371,
      "outputs": []
    },
    {
      "cell_type": "markdown",
      "source": [
        "### Pandas"
      ],
      "metadata": {
        "id": "8_Q7fbyxMMHM"
      }
    },
    {
      "cell_type": "markdown",
      "source": [
        "Run the following load command and solve the following questions"
      ],
      "metadata": {
        "id": "3QpaFHkxJUho"
      }
    },
    {
      "cell_type": "code",
      "source": [
        "url = 'https://archive.ics.uci.edu/ml/machine-learning-databases/iris/iris.data'\n",
        "iris = np.genfromtxt(url, delimiter=',', dtype='object')\n",
        "names = ('sepallength', 'sepalwidth', 'petallength', 'petalwidth', 'species')"
      ],
      "metadata": {
        "id": "mLdcY49iJDtl"
      },
      "execution_count": 372,
      "outputs": []
    },
    {
      "cell_type": "markdown",
      "source": [
        "Q4 Write a Pandas function to find the count of unique species."
      ],
      "metadata": {
        "id": "zbDepnx9RtV8"
      }
    },
    {
      "cell_type": "code",
      "source": [
        "iris_df = pd.DataFrame(iris, columns=names)\n",
        "count = iris_df['species'].nunique()\n",
        "print(count)"
      ],
      "metadata": {
        "id": "oAkO0UnqJDv7",
        "outputId": "22af2ee1-dcd1-47ce-e212-4d98b4001c5e",
        "colab": {
          "base_uri": "https://localhost:8080/"
        }
      },
      "execution_count": 373,
      "outputs": [
        {
          "output_type": "stream",
          "name": "stdout",
          "text": [
            "3\n"
          ]
        }
      ]
    },
    {
      "cell_type": "markdown",
      "source": [
        "# Q5 Write a Pandas function to bin the petal length (3rd) column of iris_2d to form a text array, such that if petal length is:\n",
        "- Less than 3 –> ‘small’\n",
        "- 3-5 –> ‘medium’\n",
        "- greater than equal to 5 –> ‘large’"
      ],
      "metadata": {
        "id": "Usj5HlvyRxal"
      }
    },
    {
      "cell_type": "code",
      "source": [
        "url = 'https://archive.ics.uci.edu/ml/machine-learning-databases/iris/iris.data'\n",
        "iris_2d = np.genfromtxt(url, delimiter=',', dtype='float', usecols=[0,1,2,3])\n",
        "names = ('sepallength', 'sepalwidth', 'petallength', 'petalwidth')\n",
        "iris_2d = pd.DataFrame(iris_2d, columns=names)\n",
        "def assign_bin(petallength):\n",
        "  if petallength < 3:\n",
        "    return 'small'\n",
        "  elif petallength >= 3 and petallength < 5:\n",
        "    return 'medium'\n",
        "  else:\n",
        "    return 'large'\n",
        "\n",
        "iris_2d['bin'] = iris_2d['petallength'].apply(assign_bin)\n",
        "\n",
        "\n"
      ],
      "metadata": {
        "id": "gTWWJoLMJDxx"
      },
      "execution_count": 374,
      "outputs": []
    },
    {
      "cell_type": "markdown",
      "source": [
        "Q6 Write a Pandas function to find the most frequent value of petal length (3rd column) in iris dataset"
      ],
      "metadata": {
        "id": "IbBYP_8sSBrB"
      }
    },
    {
      "cell_type": "code",
      "source": [
        "names = ('sepallength', 'sepalwidth', 'petallength', 'petalwidth', 'species')\n",
        "df = pd.DataFrame(iris, columns=names)\n",
        "count = df['petallength'].value_counts().index[0]\n",
        "count\n"
      ],
      "metadata": {
        "id": "DNk_tlVWJufR",
        "outputId": "c74be0d3-e1d0-4fcf-c482-a518e178229d",
        "colab": {
          "base_uri": "https://localhost:8080/"
        }
      },
      "execution_count": 387,
      "outputs": [
        {
          "output_type": "execute_result",
          "data": {
            "text/plain": [
              "b'1.5'"
            ]
          },
          "metadata": {},
          "execution_count": 387
        }
      ]
    }
  ]
}
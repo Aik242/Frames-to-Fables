{
  "nbformat": 4,
  "nbformat_minor": 0,
  "metadata": {
    "colab": {
      "provenance": []
    },
    "kernelspec": {
      "name": "python3",
      "display_name": "Python 3"
    },
    "language_info": {
      "name": "python"
    }
  },
  "cells": [
    {
      "cell_type": "markdown",
      "source": [
        "Instructions for the assignment\n",
        "\n",
        "\n",
        "*   Fill the codeblocks according to the comments given\n",
        "*   Hints are given wherever required\n",
        "*   Please note that copying will not be tolerated, and appropriate action will be taken if we suspect any misconduct.\n",
        "*   You're welcome to utilize any online resources in case you feel stuck anywhere\n",
        "\n",
        "\n",
        "\n",
        "\n",
        "\n",
        "\n",
        "\n"
      ],
      "metadata": {
        "id": "kIAcUXNYVeGR"
      }
    },
    {
      "cell_type": "markdown",
      "source": [
        "# Section A *(2 Marks each)*"
      ],
      "metadata": {
        "id": "UhXvUdK6Stt_"
      }
    },
    {
      "cell_type": "markdown",
      "source": [
        "## NumPy (Numerical Python)\n",
        "\n",
        "### Multidimensional array object\n",
        "- Array is a grid of homogeneous elements which can be indexed in various ways\n",
        "- Different from Python list which can store different data types\n",
        "- NumPy stores multidimensional arrays as an instance of **ndarray**\n",
        "\n"
      ],
      "metadata": {
        "id": "oc77CrhjAGlR"
      }
    },
    {
      "cell_type": "code",
      "source": [
        "import numpy as np"
      ],
      "metadata": {
        "id": "WGtRigfyBpgb"
      },
      "execution_count": 59,
      "outputs": []
    },
    {
      "cell_type": "code",
      "execution_count": null,
      "metadata": {
        "id": "UR9ftRnU8_lu"
      },
      "outputs": [],
      "source": [
        "# Python list to initialize a one dimensional NumPy array of numbers 1 to 5 and then print it\n",
        "\n",
        "# Python list to initialize a two dimensional NumPy array of shape [3,3] and then print it"
      ]
    },
    {
      "cell_type": "code",
      "source": [
        "list1=[1,2,3,4,5]\n",
        "array1=np.array(list1)\n",
        "print(array1)\n",
        "list2=[[1,2,3],[4,5,6],[7,8,9]]\n",
        "array2=np.array(list2)\n",
        "print(array2)"
      ],
      "metadata": {
        "colab": {
          "base_uri": "https://localhost:8080/"
        },
        "id": "m_QEuFcc-IBA",
        "outputId": "5a310b12-7bad-4f84-ffb8-b9099be75c5c"
      },
      "execution_count": null,
      "outputs": [
        {
          "output_type": "stream",
          "name": "stdout",
          "text": [
            "[1 2 3 4 5]\n",
            "[[1 2 3]\n",
            " [4 5 6]\n",
            " [7 8 9]]\n"
          ]
        }
      ]
    },
    {
      "cell_type": "code",
      "source": [
        "# Write a NumPy function to create an array with random values of shape [3,4]\n",
        "\n",
        "# Write a NumPy function to create an array with all elements initialized as zero of shape [3,4]\n",
        "\n",
        "# Write a NumPy function to create an array with all elements initialized as ones of shape [3,4]\n"
      ],
      "metadata": {
        "id": "WZf-M7KnBkhu"
      },
      "execution_count": null,
      "outputs": []
    },
    {
      "cell_type": "code",
      "source": [
        "array3=np.random.rand(3,4)\n",
        "array4=np.zeros((3,4))\n",
        "array5=np.ones((3,4))\n",
        "print(array3)\n",
        "print(array4)\n",
        "print(array5)"
      ],
      "metadata": {
        "colab": {
          "base_uri": "https://localhost:8080/"
        },
        "id": "LkH-qwh1_X52",
        "outputId": "36325a77-4952-4b45-9502-01aa8c18b28f"
      },
      "execution_count": null,
      "outputs": [
        {
          "output_type": "stream",
          "name": "stdout",
          "text": [
            "[[0.97930967 0.36451773 0.13216425 0.56208812]\n",
            " [0.59821828 0.11630769 0.46899922 0.21541801]\n",
            " [0.72713062 0.64899723 0.16282869 0.62120903]]\n",
            "[[0. 0. 0. 0.]\n",
            " [0. 0. 0. 0.]\n",
            " [0. 0. 0. 0.]]\n",
            "[[1. 1. 1. 1.]\n",
            " [1. 1. 1. 1.]\n",
            " [1. 1. 1. 1.]]\n"
          ]
        }
      ]
    },
    {
      "cell_type": "code",
      "source": [
        "# Write a NumPy function to create an array containing a range of evenly spaced intervals\n",
        "# Hint : Use np.arange or np.linspace"
      ],
      "metadata": {
        "id": "Uagv5WtWBknb"
      },
      "execution_count": null,
      "outputs": []
    },
    {
      "cell_type": "code",
      "source": [
        "array6=np.arange(0,20,4)\n",
        "print(array6)"
      ],
      "metadata": {
        "colab": {
          "base_uri": "https://localhost:8080/"
        },
        "id": "9Ry7u5ZiAFZC",
        "outputId": "99c4d692-d17e-4a57-fe06-7daa0c8bdee9"
      },
      "execution_count": null,
      "outputs": [
        {
          "output_type": "stream",
          "name": "stdout",
          "text": [
            "[ 0  4  8 12 16]\n"
          ]
        }
      ]
    },
    {
      "cell_type": "markdown",
      "source": [
        "### Basic array operations\n",
        "- algebraic operations\n",
        "- logical operations"
      ],
      "metadata": {
        "id": "dFeKiGA5CNXx"
      }
    },
    {
      "cell_type": "code",
      "source": [
        "a = np.array([[-4,6,8], [9, 3, 1], [1, 8, 5]])\n",
        "b = np.array([[11,16,18], [90, 37, 81], [61, 48, 75]])"
      ],
      "metadata": {
        "id": "mZbgCNnRDVbV"
      },
      "execution_count": null,
      "outputs": []
    },
    {
      "cell_type": "code",
      "source": [
        "# Write a NumPy function to add, subtract, multiply and divide arrays 'a' and 'b'\n"
      ],
      "metadata": {
        "id": "QajfAkNHCMqe"
      },
      "execution_count": null,
      "outputs": []
    },
    {
      "cell_type": "code",
      "source": [
        "add=a+b\n",
        "sub=a-b\n",
        "mul=a*b\n",
        "div=a/b\n",
        "print(sum)\n",
        "print(sub)\n",
        "print(mul)\n",
        "print(div)"
      ],
      "metadata": {
        "colab": {
          "base_uri": "https://localhost:8080/"
        },
        "id": "aGtP9JSEAbZW",
        "outputId": "47e4ebf8-a214-477a-c211-e96405feee9b"
      },
      "execution_count": null,
      "outputs": [
        {
          "output_type": "stream",
          "name": "stdout",
          "text": [
            "[[ 7 22 26]\n",
            " [99 40 82]\n",
            " [62 56 80]]\n",
            "[[-15 -10 -10]\n",
            " [-81 -34 -80]\n",
            " [-60 -40 -70]]\n",
            "[[-44  96 144]\n",
            " [810 111  81]\n",
            " [ 61 384 375]]\n",
            "[[-0.36363636  0.375       0.44444444]\n",
            " [ 0.1         0.08108108  0.01234568]\n",
            " [ 0.01639344  0.16666667  0.06666667]]\n"
          ]
        }
      ]
    },
    {
      "cell_type": "code",
      "source": [
        "# Write a NumPy function to get the sum of the array 'a' along axis=0\n",
        "\n",
        "# Write a NumPy function to get the sum of the array 'a' along axis=1\n"
      ],
      "metadata": {
        "id": "hfBR7r80C_qh"
      },
      "execution_count": null,
      "outputs": []
    },
    {
      "cell_type": "code",
      "source": [
        "sum0=np.sum(a,axis=0)\n",
        "sum1=np.sum(a,axis=1)\n",
        "print(sum0)\n",
        "print(sum1)"
      ],
      "metadata": {
        "colab": {
          "base_uri": "https://localhost:8080/"
        },
        "id": "pxojO82FA-4Y",
        "outputId": "698f13f3-eef2-409d-f2df-db566b5ac486"
      },
      "execution_count": null,
      "outputs": [
        {
          "output_type": "stream",
          "name": "stdout",
          "text": [
            "[ 6 17 14]\n",
            "[10 13 14]\n"
          ]
        }
      ]
    },
    {
      "cell_type": "code",
      "source": [
        "# Write a NumPy function to reverse the array 'a'\n",
        "\n",
        "# Write a NumPy function to reverse the array 'a' along axis=0\n",
        "\n",
        "# Write a NumPy function to reverse the array 'a' along axis=1\n"
      ],
      "metadata": {
        "id": "rBTxfTuFDSiA"
      },
      "execution_count": null,
      "outputs": []
    },
    {
      "cell_type": "code",
      "source": [
        "rev0=np.flip(a,axis=0)\n",
        "rev1=np.flip(a,axis=1)\n",
        "print(rev0)\n",
        "print(rev1)"
      ],
      "metadata": {
        "colab": {
          "base_uri": "https://localhost:8080/"
        },
        "id": "2K2ZWaluBoYA",
        "outputId": "8cc1ab87-be7a-4f5e-ed34-b49ee2cc6282"
      },
      "execution_count": null,
      "outputs": [
        {
          "output_type": "stream",
          "name": "stdout",
          "text": [
            "[[ 1  8  5]\n",
            " [ 9  3  1]\n",
            " [-4  6  8]]\n",
            "[[ 8  6 -4]\n",
            " [ 1  3  9]\n",
            " [ 5  8  1]]\n"
          ]
        }
      ]
    },
    {
      "cell_type": "markdown",
      "source": [
        "### Sorting and concatenation\n",
        "- sort arrays\n",
        "- join multiple arrays\n"
      ],
      "metadata": {
        "id": "WnCvXc3jCdWH"
      }
    },
    {
      "cell_type": "code",
      "source": [
        "a = np.array([[-4,6,8], [9, 3, 1], [1, 8, 5]])\n",
        "b = np.array([[11,16,18], [90, 37, 81], [61, 48, 75]])"
      ],
      "metadata": {
        "id": "Qsg-EPq7EbPx"
      },
      "execution_count": null,
      "outputs": []
    },
    {
      "cell_type": "code",
      "source": [
        "# Write a NumPy function to sort the array 'a'\n",
        "\n",
        "# Write a NumPy function to sort the array 'a' along axis=0\n",
        "\n",
        "# Write a NumPy function to sort the array 'a' along axis=1\n",
        "\n",
        "# Write a NumPy function to sort the array 'a' in descending order along axis=0\n"
      ],
      "metadata": {
        "id": "_7VfP1anCc0O"
      },
      "execution_count": null,
      "outputs": []
    },
    {
      "cell_type": "code",
      "source": [
        "sort0=np.sort(a,axis=0)\n",
        "sort1=np.sort(a,axis=1)\n",
        "sort2=np.sort(a,axis=0)[::-1]\n",
        "print(sort0)\n",
        "print(sort1)\n",
        "print(sort2)"
      ],
      "metadata": {
        "colab": {
          "base_uri": "https://localhost:8080/"
        },
        "id": "M8gF3qytCNbZ",
        "outputId": "6cf5814c-5a63-4329-ce4c-465de6129b48"
      },
      "execution_count": null,
      "outputs": [
        {
          "output_type": "stream",
          "name": "stdout",
          "text": [
            "[[-4  3  1]\n",
            " [ 1  6  5]\n",
            " [ 9  8  8]]\n",
            "[[-4  6  8]\n",
            " [ 1  3  9]\n",
            " [ 1  5  8]]\n",
            "[[ 9  8  8]\n",
            " [ 1  6  5]\n",
            " [-4  3  1]]\n"
          ]
        }
      ]
    },
    {
      "cell_type": "code",
      "source": [
        "# Write a NumPy function to argsort the array along axis=0\n",
        "\n",
        "# Write a NumPy function to argsort the array along axis=1\n"
      ],
      "metadata": {
        "id": "6BqbtdLYEWng"
      },
      "execution_count": null,
      "outputs": []
    },
    {
      "cell_type": "code",
      "source": [
        "argsort0=np.argsort(a,axis=0)\n",
        "argsort1=np.argsort(a,axis=1)\n",
        "print(argsort0)\n",
        "print(argsort1)"
      ],
      "metadata": {
        "colab": {
          "base_uri": "https://localhost:8080/"
        },
        "id": "82oTla6qCuHR",
        "outputId": "76446a2b-22de-4957-e5f2-2d9ae0219ec5"
      },
      "execution_count": null,
      "outputs": [
        {
          "output_type": "stream",
          "name": "stdout",
          "text": [
            "[[0 1 1]\n",
            " [2 0 2]\n",
            " [1 2 0]]\n",
            "[[0 1 2]\n",
            " [2 1 0]\n",
            " [0 2 1]]\n"
          ]
        }
      ]
    },
    {
      "cell_type": "code",
      "source": [
        "# Write a NumPy function to concatenate the arrays 'a' and 'b'\n",
        "\n",
        "# Write a NumPy function to concatenate the arrays 'a' and 'b' along axis = 0\n",
        "\n",
        "# Note: You can do the same function using stacking, discover and try that :)\n"
      ],
      "metadata": {
        "id": "cixOoXZhEY8-"
      },
      "execution_count": null,
      "outputs": []
    },
    {
      "cell_type": "code",
      "source": [
        "cat0=np.concatenate((a,b),axis=0)\n",
        "print(cat0)\n",
        "cat02=np.vstack((a,b))\n",
        "print(cat02)"
      ],
      "metadata": {
        "colab": {
          "base_uri": "https://localhost:8080/"
        },
        "id": "qSosHx7rDJmh",
        "outputId": "2c434a19-56ed-44c5-d580-35fb24ce37da"
      },
      "execution_count": null,
      "outputs": [
        {
          "output_type": "stream",
          "name": "stdout",
          "text": [
            "[[-4  6  8]\n",
            " [ 9  3  1]\n",
            " [ 1  8  5]\n",
            " [11 16 18]\n",
            " [90 37 81]\n",
            " [61 48 75]]\n",
            "[[-4  6  8]\n",
            " [ 9  3  1]\n",
            " [ 1  8  5]\n",
            " [11 16 18]\n",
            " [90 37 81]\n",
            " [61 48 75]]\n"
          ]
        }
      ]
    },
    {
      "cell_type": "markdown",
      "source": [
        "### Reshaping arrays\n",
        "- the number of dimensions of the array\n",
        "-  shape of n-dimensional array as a tuple with n elements s.t. $i^{th}$ element is the length of the $i^{th}$ dimension of the array\n",
        "- total number of elements of the array\n",
        "- reshapes the array\n",
        "- flattens multidimensional array into a 1D array\n",
        "- adds new dimensions to the array"
      ],
      "metadata": {
        "id": "aY0j33z2EjNx"
      }
    },
    {
      "cell_type": "code",
      "source": [
        "a = np.array([[4,6,8], [9, 3, 1], [1, 8, 5]])"
      ],
      "metadata": {
        "id": "sStUkoh1FG4N"
      },
      "execution_count": null,
      "outputs": []
    },
    {
      "cell_type": "code",
      "source": [
        "# Write a NumPy function to get the Number of dimensions\n",
        "\n",
        "# Write a NumPy function to get the Shape of the array\n",
        "\n",
        "# Write a NumPy function to get the Size of the array\n"
      ],
      "metadata": {
        "id": "vb35oi57Ev1f"
      },
      "execution_count": null,
      "outputs": []
    },
    {
      "cell_type": "code",
      "source": [
        "print(a.ndim)\n",
        "print(a.shape)\n",
        "print(a.size)"
      ],
      "metadata": {
        "colab": {
          "base_uri": "https://localhost:8080/"
        },
        "id": "E5OQA8QyEO6h",
        "outputId": "35dcf522-54bc-46eb-f6f3-c14173ef21f0"
      },
      "execution_count": null,
      "outputs": [
        {
          "output_type": "stream",
          "name": "stdout",
          "text": [
            "2\n",
            "(3, 3)\n",
            "9\n"
          ]
        }
      ]
    },
    {
      "cell_type": "code",
      "source": [
        "# Write a NumPy function to Reshape the array 'a' to the dimension (1,9)"
      ],
      "metadata": {
        "id": "MznU0NWKE54c"
      },
      "execution_count": null,
      "outputs": []
    },
    {
      "cell_type": "code",
      "source": [
        "newarray=a.reshape(-1)\n",
        "print(newarray)"
      ],
      "metadata": {
        "colab": {
          "base_uri": "https://localhost:8080/"
        },
        "id": "_yAkJUyBEw8Z",
        "outputId": "65ef9cd6-a816-408e-87ff-0133cb78eb68"
      },
      "execution_count": 40,
      "outputs": [
        {
          "output_type": "stream",
          "name": "stdout",
          "text": [
            "[4 6 8 9 3 1 1 8 5]\n"
          ]
        }
      ]
    },
    {
      "cell_type": "code",
      "source": [
        "# Write a NumPy function to add a new axis to the array 'a'\n",
        "# Note : Show atleast two different ways of doing this"
      ],
      "metadata": {
        "id": "p1dlxcNYE8tv"
      },
      "execution_count": 43,
      "outputs": []
    },
    {
      "cell_type": "code",
      "source": [
        "newaxis1 = a[:,np.newaxis]\n",
        "print(newaxis1)\n",
        "newaxis2 = a[:,None]\n",
        "print(newaxis2)"
      ],
      "metadata": {
        "id": "yAa0qkadFGjz",
        "colab": {
          "base_uri": "https://localhost:8080/"
        },
        "outputId": "013d6783-91e8-4a9f-d246-d2f1eb366cd3"
      },
      "execution_count": 42,
      "outputs": [
        {
          "output_type": "stream",
          "name": "stdout",
          "text": [
            "[[[4 6 8]]\n",
            "\n",
            " [[9 3 1]]\n",
            "\n",
            " [[1 8 5]]]\n",
            "[[[4 6 8]]\n",
            "\n",
            " [[9 3 1]]\n",
            "\n",
            " [[1 8 5]]]\n"
          ]
        }
      ]
    },
    {
      "cell_type": "markdown",
      "source": [
        "### Indexing and slicing\n",
        "- NumPy allows indexing array using tuple of nonnegative integers, booleans, array or integers"
      ],
      "metadata": {
        "id": "Ng4xWkwpFtao"
      }
    },
    {
      "cell_type": "code",
      "source": [
        "a = np.array([[4,6,0], [0, 3, 1], [1, 8, 5]])"
      ],
      "metadata": {
        "id": "swrtOhPGGB7r"
      },
      "execution_count": null,
      "outputs": []
    },
    {
      "cell_type": "code",
      "source": [
        "# Write a NumPy function to index and slice NumPy arrays similar to Python lists\n",
        "# Show all three - indexing by a integer, indexing by a tuple, using range\n"
      ],
      "metadata": {
        "id": "w3QaVYRyFs77"
      },
      "execution_count": null,
      "outputs": []
    },
    {
      "cell_type": "code",
      "source": [
        "array1=np.take(a,1,axis=0)\n",
        "print (array1)\n",
        "array2=a.item((2,2))\n",
        "print(array2)\n",
        "array3=a[0:2]\n",
        "print(array3)"
      ],
      "metadata": {
        "colab": {
          "base_uri": "https://localhost:8080/"
        },
        "id": "sQVSGATnNUVC",
        "outputId": "ac2fca4d-3fcf-4d76-8244-067dbc545160"
      },
      "execution_count": 71,
      "outputs": [
        {
          "output_type": "stream",
          "name": "stdout",
          "text": [
            "[0 3 1]\n",
            "5\n",
            "[[4 6 0]\n",
            " [0 3 1]]\n"
          ]
        }
      ]
    },
    {
      "cell_type": "code",
      "source": [
        "# Write a NumPy function to select values satisfying a specific condition like Values greater than 4\n",
        "\n",
        "# Write a NumPy function to select values satisfying mulitple conditions like Values greater than 4 and divisible by 2\n"
      ],
      "metadata": {
        "id": "Xn2_z5h-Fmrd"
      },
      "execution_count": null,
      "outputs": []
    },
    {
      "cell_type": "code",
      "source": [
        "g4=a[a>4]\n",
        "print(g4)\n",
        "g42=a[(a>4)&(a%2==0)]\n",
        "print(g42)"
      ],
      "metadata": {
        "colab": {
          "base_uri": "https://localhost:8080/"
        },
        "id": "GUhILWDGNUxL",
        "outputId": "0c54fb21-a437-4b38-dbaf-a6790359a771"
      },
      "execution_count": 73,
      "outputs": [
        {
          "output_type": "stream",
          "name": "stdout",
          "text": [
            "[6 8 5]\n",
            "[6 8]\n"
          ]
        }
      ]
    },
    {
      "cell_type": "markdown",
      "source": [
        "### Copying arrays\n",
        "- new array object with a copy of the data\n",
        "- Changes made in the copy array is not reflected in the original array"
      ],
      "metadata": {
        "id": "GWU0EfaAG2ll"
      }
    },
    {
      "cell_type": "code",
      "source": [
        "a = np.array([[4,6,0], [0, 3, 1], [1, 8, 5]])"
      ],
      "metadata": {
        "id": "ijdgy02lHMJW"
      },
      "execution_count": 44,
      "outputs": []
    },
    {
      "cell_type": "code",
      "source": [
        "# Write a NumPy function to copy the array 'a' and finally print an array where all elements are increased by 1\n"
      ],
      "metadata": {
        "id": "FmgUdh66GuQH"
      },
      "execution_count": 45,
      "outputs": []
    },
    {
      "cell_type": "code",
      "source": [
        "copy=a\n",
        "copy=copy+1\n",
        "print(copy)"
      ],
      "metadata": {
        "colab": {
          "base_uri": "https://localhost:8080/"
        },
        "id": "iZjEbBnlIs3V",
        "outputId": "b99c6c78-cdfd-49c1-b599-cdf2a4399c12"
      },
      "execution_count": 46,
      "outputs": [
        {
          "output_type": "stream",
          "name": "stdout",
          "text": [
            "[[5 7 1]\n",
            " [1 4 2]\n",
            " [2 9 6]]\n"
          ]
        }
      ]
    },
    {
      "cell_type": "markdown",
      "source": [
        "## Pandas ( Python Data Analysis Library)\n",
        "\n",
        "### Main Features\n",
        "- Easy handling of missing data in both floating point and non-floating point data.\n",
        "- Automatic and explicit data alignment, making it easy to perform computations and transformations on data sets.\n",
        "\n"
      ],
      "metadata": {
        "id": "M1KLD5QxHsVw"
      }
    },
    {
      "cell_type": "markdown",
      "source": [
        "#### Generating the dataset"
      ],
      "metadata": {
        "id": "v1CuU3FeIq1a"
      }
    },
    {
      "cell_type": "markdown",
      "source": [
        "Run the following load command to get the 2-Dim iris dataset. Do the following operations on it and please dont edit this cell"
      ],
      "metadata": {
        "id": "fp36ZqOMIy7k"
      }
    },
    {
      "cell_type": "code",
      "source": [
        "url = 'https://archive.ics.uci.edu/ml/machine-learning-databases/iris/iris.data'\n",
        "iris_2d = np.genfromtxt(url, delimiter=',', dtype='float', usecols=[0,1,2,3])"
      ],
      "metadata": {
        "id": "A_O5RTBXIyK-"
      },
      "execution_count": 47,
      "outputs": []
    },
    {
      "cell_type": "markdown",
      "source": [
        "#### Basic Data Analysis"
      ],
      "metadata": {
        "id": "EILb6pPrS8Ju"
      }
    },
    {
      "cell_type": "code",
      "source": [
        "# Write a Pandas function to drop rows that contain a missing value.\n"
      ],
      "metadata": {
        "id": "bViO1LLoI7sz"
      },
      "execution_count": 48,
      "outputs": []
    },
    {
      "cell_type": "code",
      "source": [
        "import pandas as pd\n",
        "data = pd.read_csv(url)\n",
        "dropped = data.dropna()\n",
        "print(dropped)"
      ],
      "metadata": {
        "colab": {
          "base_uri": "https://localhost:8080/"
        },
        "id": "2Utcz88XJD2l",
        "outputId": "9024c0a6-52ea-4ca0-a5b8-d12b2e062e4f"
      },
      "execution_count": 49,
      "outputs": [
        {
          "output_type": "stream",
          "name": "stdout",
          "text": [
            "     5.1  3.5  1.4  0.2     Iris-setosa\n",
            "0    4.9  3.0  1.4  0.2     Iris-setosa\n",
            "1    4.7  3.2  1.3  0.2     Iris-setosa\n",
            "2    4.6  3.1  1.5  0.2     Iris-setosa\n",
            "3    5.0  3.6  1.4  0.2     Iris-setosa\n",
            "4    5.4  3.9  1.7  0.4     Iris-setosa\n",
            "..   ...  ...  ...  ...             ...\n",
            "144  6.7  3.0  5.2  2.3  Iris-virginica\n",
            "145  6.3  2.5  5.0  1.9  Iris-virginica\n",
            "146  6.5  3.0  5.2  2.0  Iris-virginica\n",
            "147  6.2  3.4  5.4  2.3  Iris-virginica\n",
            "148  5.9  3.0  5.1  1.8  Iris-virginica\n",
            "\n",
            "[149 rows x 5 columns]\n"
          ]
        }
      ]
    },
    {
      "cell_type": "code",
      "source": [
        "# Write a Pandas function to find the correlation between the first two columns.\n"
      ],
      "metadata": {
        "id": "zp_BYv5EJDjJ"
      },
      "execution_count": 50,
      "outputs": []
    },
    {
      "cell_type": "code",
      "source": [
        "correlation= data.iloc[:,0].corr(data.iloc[:,1])\n",
        "print(correlation)"
      ],
      "metadata": {
        "colab": {
          "base_uri": "https://localhost:8080/"
        },
        "id": "PWrNe9JmJEXv",
        "outputId": "7805cad1-252f-451a-d34c-cb10f6b269c5"
      },
      "execution_count": 51,
      "outputs": [
        {
          "output_type": "stream",
          "name": "stdout",
          "text": [
            "-0.10378414795681824\n"
          ]
        }
      ]
    },
    {
      "cell_type": "code",
      "source": [
        "# Write a Pandas function to find the mean, median and standard deviation of column 3."
      ],
      "metadata": {
        "id": "0mjeoZCwJDoW"
      },
      "execution_count": 70,
      "outputs": []
    },
    {
      "cell_type": "code",
      "source": [
        "mean = data.iloc[:,2].mean()\n",
        "median = data.iloc[:,2].median()\n",
        "std = data.iloc[:,2].std()\n",
        "print(mean)\n",
        "print(median)\n",
        "print(std)"
      ],
      "metadata": {
        "colab": {
          "base_uri": "https://localhost:8080/"
        },
        "id": "ipDoeRbjJE1_",
        "outputId": "805a0179-5ebc-4fbe-d3a3-04451a92d1aa"
      },
      "execution_count": 53,
      "outputs": [
        {
          "output_type": "stream",
          "name": "stdout",
          "text": [
            "3.774496644295302\n",
            "4.4\n",
            "1.7596511617753423\n"
          ]
        }
      ]
    },
    {
      "cell_type": "code",
      "source": [
        "# Write a Pandas function to create a new column for volume in iris_2d, where volume is (pi x petallength x sepal_length^2)/3\n",
        "# Hints:\n",
        "# 1. Introduce new dimension to match iris_2d's\n",
        "# 2. Add the new column"
      ],
      "metadata": {
        "id": "bRiYEhWTJDrM"
      },
      "execution_count": null,
      "outputs": []
    },
    {
      "cell_type": "code",
      "source": [
        "data['volume'] = (3.14*data.iloc[:,2]*data.iloc[:,0]**2)/3\n",
        "print(data)"
      ],
      "metadata": {
        "colab": {
          "base_uri": "https://localhost:8080/"
        },
        "id": "kNY7l8mEJz51",
        "outputId": "8de1c773-293a-4fd9-902c-84b806716c27"
      },
      "execution_count": 54,
      "outputs": [
        {
          "output_type": "stream",
          "name": "stdout",
          "text": [
            "     5.1  3.5  1.4  0.2     Iris-setosa      volume\n",
            "0    4.9  3.0  1.4  0.2     Iris-setosa   35.182653\n",
            "1    4.7  3.2  1.3  0.2     Iris-setosa   30.057127\n",
            "2    4.6  3.1  1.5  0.2     Iris-setosa   33.221200\n",
            "3    5.0  3.6  1.4  0.2     Iris-setosa   36.633333\n",
            "4    5.4  3.9  1.7  0.4     Iris-setosa   51.885360\n",
            "..   ...  ...  ...  ...             ...         ...\n",
            "144  6.7  3.0  5.2  2.3  Iris-virginica  244.321307\n",
            "145  6.3  2.5  5.0  1.9  Iris-virginica  207.711000\n",
            "146  6.5  3.0  5.2  2.0  Iris-virginica  229.952667\n",
            "147  6.2  3.4  5.4  2.3  Iris-virginica  217.262880\n",
            "148  5.9  3.0  5.1  1.8  Iris-virginica  185.815780\n",
            "\n",
            "[149 rows x 6 columns]\n"
          ]
        }
      ]
    },
    {
      "cell_type": "markdown",
      "source": [
        "# Section B *(2 Marks each)*"
      ],
      "metadata": {
        "id": "dGqrG93ELEQ3"
      }
    },
    {
      "cell_type": "markdown",
      "source": [
        "###NumPy"
      ],
      "metadata": {
        "id": "OLm8jv7tMH6h"
      }
    },
    {
      "cell_type": "markdown",
      "source": [
        "Q1 Let x = np.arange(4, dtype=np.int64). Create an array of ones with the same shape and type as X."
      ],
      "metadata": {
        "id": "zE1n0x7ZLRLU"
      }
    },
    {
      "cell_type": "code",
      "source": [
        "x = np.arange(4,dtype=np.int64)\n",
        "ones = x+1-x\n",
        "print(ones)"
      ],
      "metadata": {
        "id": "H8o9C6b7LJzA",
        "colab": {
          "base_uri": "https://localhost:8080/"
        },
        "outputId": "a1b677dc-4862-4a22-8eda-46e22a41bca9"
      },
      "execution_count": 55,
      "outputs": [
        {
          "output_type": "stream",
          "name": "stdout",
          "text": [
            "[1 1 1 1]\n"
          ]
        }
      ]
    },
    {
      "cell_type": "markdown",
      "source": [
        "Q2 Let x be an array [1, 2, 3, ..., 9]. Split x into 3 arrays, each of which has 4, 2, and 3 elements in the original order."
      ],
      "metadata": {
        "id": "PPYeTqoHLSNj"
      }
    },
    {
      "cell_type": "code",
      "source": [
        "x = [1,2,3,4,5,6,7,8,9]\n",
        "arrays = np.array_split(x,[4,6])\n",
        "print(arrays)"
      ],
      "metadata": {
        "id": "DS9mr30LLYdg",
        "colab": {
          "base_uri": "https://localhost:8080/"
        },
        "outputId": "6a3def54-f0d6-4f5a-ea85-13db5f0070d6"
      },
      "execution_count": 56,
      "outputs": [
        {
          "output_type": "stream",
          "name": "stdout",
          "text": [
            "[array([1, 2, 3, 4]), array([5, 6]), array([7, 8, 9])]\n"
          ]
        }
      ]
    },
    {
      "cell_type": "markdown",
      "source": [
        "Q3 Initiate x as a 2x5 array with random values from 0 to 10(not inclusive).Get the maximum and minimum values and their indices of x along the second axis."
      ],
      "metadata": {
        "id": "b1wJaooRLXjN"
      }
    },
    {
      "cell_type": "code",
      "source": [
        "from numpy import random"
      ],
      "metadata": {
        "id": "GrHcvt3lLGdV"
      },
      "execution_count": 61,
      "outputs": []
    },
    {
      "cell_type": "code",
      "source": [
        "array1 = random.randint(10,size=(2,5))\n",
        "print(array1)\n",
        "max = np.max(array1,axis=1)\n",
        "print(max)\n",
        "min = np.min(array1,axis=1)\n",
        "print(min)\n",
        "first = np.argmax(array1,axis=1)\n",
        "second= np.argmin(array1,axis=1)\n",
        "print(first)\n",
        "print(second)"
      ],
      "metadata": {
        "id": "GnXDqksjLf89",
        "colab": {
          "base_uri": "https://localhost:8080/"
        },
        "outputId": "6e5bfa8c-920f-4555-c6c2-1d4765df29a5"
      },
      "execution_count": 65,
      "outputs": [
        {
          "output_type": "stream",
          "name": "stdout",
          "text": [
            "[[1 6 6 4 4]\n",
            " [4 1 3 3 0]]\n",
            "[6 4]\n",
            "[1 0]\n",
            "[1 0]\n",
            "[0 4]\n"
          ]
        }
      ]
    },
    {
      "cell_type": "markdown",
      "source": [
        "### Pandas"
      ],
      "metadata": {
        "id": "8_Q7fbyxMMHM"
      }
    },
    {
      "cell_type": "markdown",
      "source": [
        "Run the following load command and solve the following questions"
      ],
      "metadata": {
        "id": "3QpaFHkxJUho"
      }
    },
    {
      "cell_type": "code",
      "source": [
        "url = 'https://archive.ics.uci.edu/ml/machine-learning-databases/iris/iris.data'\n",
        "iris = np.genfromtxt(url, delimiter=',', dtype='object')\n",
        "names = ('sepallength', 'sepalwidth', 'petallength', 'petalwidth', 'species')"
      ],
      "metadata": {
        "id": "mLdcY49iJDtl"
      },
      "execution_count": 66,
      "outputs": []
    },
    {
      "cell_type": "markdown",
      "source": [
        "Q4 Write a Pandas function to find the count of unique species."
      ],
      "metadata": {
        "id": "zbDepnx9RtV8"
      }
    },
    {
      "cell_type": "code",
      "source": [
        "data2 = pd.read_csv(url)\n",
        "n = data2.iloc[:,4].nunique()\n",
        "print(n)"
      ],
      "metadata": {
        "id": "oAkO0UnqJDv7",
        "colab": {
          "base_uri": "https://localhost:8080/"
        },
        "outputId": "99796489-a029-42c6-e231-f591ca21275e"
      },
      "execution_count": 67,
      "outputs": [
        {
          "output_type": "stream",
          "name": "stdout",
          "text": [
            "3\n"
          ]
        }
      ]
    },
    {
      "cell_type": "markdown",
      "source": [
        "# Q5 Write a Pandas function to bin the petal length (3rd) column of iris_2d to form a text array, such that if petal length is:\n",
        "- Less than 3 –> ‘small’\n",
        "- 3-5 –> ‘medium’\n",
        "- greater than equal to 5 –> ‘large’"
      ],
      "metadata": {
        "id": "Usj5HlvyRxal"
      }
    },
    {
      "cell_type": "code",
      "source": [
        "import numpy as np\n",
        "conditions = [\n",
        "              data2.iloc[:,2]<=3,\n",
        "              (data2.iloc[:,2]>3)&(data2.iloc[:,2]<5),\n",
        "              data2.iloc[:,2]>=5\n",
        "]\n",
        "abc = ['small','medium','large']\n",
        "data2['petalsize'] = np.select(conditions,abc,default='unknown')\n",
        "print(data2)"
      ],
      "metadata": {
        "id": "gTWWJoLMJDxx",
        "colab": {
          "base_uri": "https://localhost:8080/"
        },
        "outputId": "bbd03492-e828-4e4e-c3a1-d79fee66bb23"
      },
      "execution_count": 68,
      "outputs": [
        {
          "output_type": "stream",
          "name": "stdout",
          "text": [
            "     5.1  3.5  1.4  0.2     Iris-setosa petalsize\n",
            "0    4.9  3.0  1.4  0.2     Iris-setosa     small\n",
            "1    4.7  3.2  1.3  0.2     Iris-setosa     small\n",
            "2    4.6  3.1  1.5  0.2     Iris-setosa     small\n",
            "3    5.0  3.6  1.4  0.2     Iris-setosa     small\n",
            "4    5.4  3.9  1.7  0.4     Iris-setosa     small\n",
            "..   ...  ...  ...  ...             ...       ...\n",
            "144  6.7  3.0  5.2  2.3  Iris-virginica     large\n",
            "145  6.3  2.5  5.0  1.9  Iris-virginica     large\n",
            "146  6.5  3.0  5.2  2.0  Iris-virginica     large\n",
            "147  6.2  3.4  5.4  2.3  Iris-virginica     large\n",
            "148  5.9  3.0  5.1  1.8  Iris-virginica     large\n",
            "\n",
            "[149 rows x 6 columns]\n"
          ]
        }
      ]
    },
    {
      "cell_type": "markdown",
      "source": [
        "Q6 Write a Pandas function to find the most frequent value of petal length (3rd column) in iris dataset"
      ],
      "metadata": {
        "id": "IbBYP_8sSBrB"
      }
    },
    {
      "cell_type": "code",
      "source": [
        "mode_l = data2.iloc[:,2].mode()[0]\n",
        "print(mode_l)"
      ],
      "metadata": {
        "id": "DNk_tlVWJufR",
        "colab": {
          "base_uri": "https://localhost:8080/"
        },
        "outputId": "aea3fb50-26a8-433b-c1a1-f50d8e0c9fdb"
      },
      "execution_count": 69,
      "outputs": [
        {
          "output_type": "stream",
          "name": "stdout",
          "text": [
            "1.5\n"
          ]
        }
      ]
    }
  ]
}